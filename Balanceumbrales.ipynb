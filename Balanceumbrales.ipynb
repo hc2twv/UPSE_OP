{
  "nbformat": 4,
  "nbformat_minor": 0,
  "metadata": {
    "colab": {
      "provenance": [],
      "authorship_tag": "ABX9TyNuZrLcCOnEyZTMPyq1XD5i",
      "include_colab_link": true
    },
    "kernelspec": {
      "name": "python3",
      "display_name": "Python 3"
    },
    "language_info": {
      "name": "python"
    }
  },
  "cells": [
    {
      "cell_type": "markdown",
      "metadata": {
        "id": "view-in-github",
        "colab_type": "text"
      },
      "source": [
        "<a href=\"https://colab.research.google.com/github/hc2twv/UPSE_OP/blob/main/Balanceumbrales.ipynb\" target=\"_parent\"><img src=\"https://colab.research.google.com/assets/colab-badge.svg\" alt=\"Open In Colab\"/></a>"
      ]
    },
    {
      "cell_type": "markdown",
      "source": [
        "Este es un ejemplo básico utilizando una lista de servidores y distribuyendo la carga entre ellos según umbrales predefinidos."
      ],
      "metadata": {
        "id": "qvhHL3Mr1AFP"
      }
    },
    {
      "cell_type": "code",
      "execution_count": 1,
      "metadata": {
        "colab": {
          "base_uri": "https://localhost:8080/"
        },
        "id": "NO6NUelL09mS",
        "outputId": "ef533787-7857-4ec9-86a5-bcac71d2395e"
      },
      "outputs": [
        {
          "output_type": "stream",
          "name": "stdout",
          "text": [
            "Peticion 1: Atendida por Servidor1\n",
            "Peticion 2: Atendida por Servidor1\n",
            "Peticion 3: Atendida por Servidor1\n",
            "Peticion 4: Atendida por Servidor1\n",
            "Peticion 5: Atendida por Servidor1\n",
            "Peticion 6: Atendida por Servidor1\n",
            "Peticion 7: Atendida por Servidor1\n",
            "Peticion 8: Atendida por Servidor1\n",
            "Peticion 9: Atendida por Servidor1\n",
            "Peticion 10: Atendida por Servidor1\n",
            "Peticion 11: Atendida por Servidor2\n",
            "Peticion 12: Atendida por Servidor2\n",
            "Peticion 13: Atendida por Servidor2\n",
            "Peticion 14: Atendida por Servidor2\n",
            "Peticion 15: Atendida por Servidor2\n",
            "Peticion 16: Atendida por Servidor2\n",
            "Peticion 17: Atendida por Servidor2\n",
            "Peticion 18: Atendida por Servidor2\n",
            "Peticion 19: Atendida por Servidor2\n",
            "Peticion 20: Atendida por Servidor2\n",
            "Peticion 21: Atendida por Servidor3\n",
            "Peticion 22: Atendida por Servidor3\n",
            "Peticion 23: Atendida por Servidor3\n",
            "Peticion 24: Atendida por Servidor3\n",
            "Peticion 25: Atendida por Servidor3\n"
          ]
        }
      ],
      "source": [
        "class LoadBalancer:\n",
        "    def __init__(self, servers, thresholds):\n",
        "        self.servers = servers\n",
        "        self.thresholds = thresholds\n",
        "\n",
        "    def get_server(self, load):\n",
        "        for server, threshold in zip(self.servers, self.thresholds):\n",
        "            if load <= threshold:\n",
        "                return server\n",
        "        # Si ninguna cumple, devolvemos el último\n",
        "        return self.servers[-1]\n",
        "\n",
        "\n",
        "# Ejemplo de uso\n",
        "servers = [\"Servidor1\", \"Servidor2\", \"Servidor3\"]\n",
        "thresholds = [10, 20, 30]  # Umbrales de carga para cada servidor\n",
        "\n",
        "load_balancer = LoadBalancer(servers, thresholds)\n",
        "\n",
        "# Simulación de carga para 25 peticiones\n",
        "for i in range(25):\n",
        "    load = i + 1  # Carga incrementada para simular una carga creciente\n",
        "    server = load_balancer.get_server(load)\n",
        "    print(f\"Peticion {i+1}: Atendida por {server}\")\n"
      ]
    },
    {
      "cell_type": "markdown",
      "source": [
        "Vamos a construir un balanceador de carga que utilice un algoritmo de Round Robin, pero con la capacidad de añadir y eliminar servidores en tiempo de ejecución. Además, podemos incluir la funcionalidad para ajustar dinámicamente la carga de los servidores y redistribuirla según sea necesario."
      ],
      "metadata": {
        "id": "j53Z4ZmS4bYV"
      }
    },
    {
      "cell_type": "code",
      "source": [
        "import itertools\n",
        "\n",
        "class Server:\n",
        "    def __init__(self, name, threshold):\n",
        "        self.name = name\n",
        "        self.load = 0\n",
        "        self.threshold = threshold\n",
        "\n",
        "    def handle_request(self, request):\n",
        "        # Simulamos el procesamiento de la solicitud\n",
        "        self.load += request\n",
        "        print(f\"{self.name}: Procesando solicitud... (carga actual: {self.load})\")\n",
        "\n",
        "\n",
        "class LoadBalancer:\n",
        "    def __init__(self):\n",
        "        self.servers = []\n",
        "\n",
        "    def add_server(self, server):\n",
        "        self.servers.append(server)\n",
        "\n",
        "    def remove_server(self, server):\n",
        "        if server in self.servers:\n",
        "            self.servers.remove(server)\n",
        "\n",
        "    def distribute_load(self, request):\n",
        "        # Distribuir la carga a través de los servidores activos\n",
        "        if not self.servers:\n",
        "            print(\"No hay servidores disponibles para manejar la solicitud\")\n",
        "            return\n",
        "\n",
        "        available_servers = [s for s in self.servers if s.load < s.threshold]\n",
        "        if not available_servers:\n",
        "            available_servers = self.servers\n",
        "\n",
        "        min_load_server = min(available_servers, key=lambda x: x.load)\n",
        "        min_load_server.handle_request(request)\n",
        "\n",
        "    def handle_request(self, request):\n",
        "        self.distribute_load(request)\n",
        "\n",
        "    def adjust_load(self, server_name, adjustment):\n",
        "        # Ajustar la carga de un servidor específico\n",
        "        server = next((s for s in self.servers if s.name == server_name), None)\n",
        "        if server:\n",
        "            server.load += adjustment\n",
        "            print(f\"Carga del servidor {server_name} ajustada a {server.load}\")\n",
        "        else:\n",
        "            print(f\"No se encontró el servidor {server_name}\")\n",
        "\n",
        "\n",
        "# Ejemplo de uso\n",
        "load_balancer = LoadBalancer()\n",
        "\n",
        "# Agregar servidores con umbrales de carga\n",
        "load_balancer.add_server(Server(\"Servidor1\", threshold=30))\n",
        "load_balancer.add_server(Server(\"Servidor2\", threshold=20))\n",
        "load_balancer.add_server(Server(\"Servidor3\", threshold=25))\n",
        "\n",
        "# Simulación de solicitudes\n",
        "requests = [10, 15, 5, 20, 8]\n",
        "\n",
        "for req in requests:\n",
        "    load_balancer.handle_request(req)\n",
        "\n",
        "# Ajustar la carga de un servidor\n",
        "load_balancer.adjust_load(\"Servidor2\", 15)\n",
        "\n",
        "# Simulación de eliminación de un servidor\n",
        "server_to_remove = load_balancer.servers[0]\n",
        "load_balancer.remove_server(server_to_remove)\n",
        "print(f\"\\nSe ha eliminado el servidor {server_to_remove.name}\")\n",
        "\n",
        "# Simulación de más solicitudes después de eliminar un servidor\n",
        "for req in requests:\n",
        "    load_balancer.handle_request(req)\n"
      ],
      "metadata": {
        "colab": {
          "base_uri": "https://localhost:8080/"
        },
        "id": "G12TPW0H1bk5",
        "outputId": "487cd44f-6260-4f6c-b191-ed66a6b238c8"
      },
      "execution_count": 13,
      "outputs": [
        {
          "output_type": "stream",
          "name": "stdout",
          "text": [
            "Servidor1: Procesando solicitud... (carga actual: 10)\n",
            "Servidor2: Procesando solicitud... (carga actual: 15)\n",
            "Servidor3: Procesando solicitud... (carga actual: 5)\n",
            "Servidor3: Procesando solicitud... (carga actual: 25)\n",
            "Servidor1: Procesando solicitud... (carga actual: 18)\n",
            "Carga del servidor Servidor2 ajustada a 30\n",
            "\n",
            "Se ha eliminado el servidor Servidor1\n",
            "Servidor3: Procesando solicitud... (carga actual: 35)\n",
            "Servidor2: Procesando solicitud... (carga actual: 45)\n",
            "Servidor3: Procesando solicitud... (carga actual: 40)\n",
            "Servidor3: Procesando solicitud... (carga actual: 60)\n",
            "Servidor2: Procesando solicitud... (carga actual: 53)\n"
          ]
        }
      ]
    }
  ]
}