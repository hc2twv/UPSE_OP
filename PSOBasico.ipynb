{
  "nbformat": 4,
  "nbformat_minor": 0,
  "metadata": {
    "colab": {
      "provenance": [],
      "authorship_tag": "ABX9TyOBukgzfMK9PMSJXJzYF1Bo",
      "include_colab_link": true
    },
    "kernelspec": {
      "name": "python3",
      "display_name": "Python 3"
    },
    "language_info": {
      "name": "python"
    }
  },
  "cells": [
    {
      "cell_type": "markdown",
      "metadata": {
        "id": "view-in-github",
        "colab_type": "text"
      },
      "source": [
        "<a href=\"https://colab.research.google.com/github/hc2twv/UPSE_OP/blob/main/PSOBasico.ipynb\" target=\"_parent\"><img src=\"https://colab.research.google.com/assets/colab-badge.svg\" alt=\"Open In Colab\"/></a>"
      ]
    },
    {
      "cell_type": "markdown",
      "source": [
        "Descripción del código:\n",
        "* Definición de la función objetivo: La función a minimizar es\n",
        "𝑓(𝑥) = 𝑥^2\n",
        "* Parámetros del PSO: Definimos el número de partículas, el número de iteraciones, la dimensionalidad del problema (1D), y los coeficientes del PSO.\n",
        "* Inicialización de las partículas y velocidades: Generamos posiciones y velocidades iniciales aleatorias para las partículas dentro de los límites definidos.\n",
        "* Inicialización de las mejores posiciones y valores: Almacenamos las mejores posiciones personales y globales junto con sus respectivos valores.\n",
        "* Bucle principal del PSO: Actualizamos las velocidades y posiciones de las partículas, evaluamos las nuevas posiciones y actualizamos las mejores posiciones y valores personales y globales si es necesario.\n",
        "* Impresión de los resultados: Mostramos la mejor posición y valor encontrados al final de las iteraciones.\n",
        "\n",
        "\n",
        "Explicación de cada uno de los parámetros en el contexto del algoritmo de Optimización por Enjambre de Partículas (PSO):\n",
        "\n",
        "**Dimensionalidad del problema (dim):**\n",
        "\n",
        "* Significado: Se refiere al número de variables que intervienen en la función objetivo. Cada partícula en el enjambre tiene una posición en este espacio multidimensional.\n",
        "* Ejemplo: Si estás optimizando una función con dos variables, como\n",
        "𝑓(𝑥,𝑦) = 𝑥^2 + 𝑦^2 , la dimensionalidad del problema es 2. En el ejemplo anterior, dim = 1 significa que estamos optimizando una función de una sola variable 𝑓(𝑥) = 𝑥^2.\n",
        "\n",
        "**Inercia (w):**\n",
        "\n",
        "* Significado: Este parámetro controla la influencia de la velocidad previa de una partícula en su nueva velocidad. Actúa como un factor de amortiguación que ayuda a equilibrar la exploración (búsqueda global) y la explotación (búsqueda local).\n",
        "* Función en el algoritmo: Una mayor inercia (w) fomenta la exploración del espacio de búsqueda, mientras que una menor inercia fomenta la explotación de las soluciones ya encontradas.\n",
        "* Ejemplo: Si w = 0.5, significa que la nueva velocidad de la partícula estará influenciada al 50% por su velocidad anterior.\n",
        "\n",
        "\n",
        "**Coeficiente cognitivo (c1):**\n",
        "\n",
        "* Significado: Este parámetro representa la \"confianza\" de una partícula en su propia experiencia. Controla cuánto se mueve una partícula hacia su mejor posición conocida.\n",
        "* Función en el algoritmo: Este coeficiente pondera el impacto de la mejor posición personal (mejor posición encontrada por la propia partícula) en la actualización de la velocidad.\n",
        "* Ejemplo: Si c1 = 1.5, significa que la partícula tiene un impulso moderado para moverse hacia su mejor posición personal.\n",
        "\n",
        "**Coeficiente social (c2):**\n",
        "\n",
        "* Significado: Este parámetro representa la \"confianza\" de una partícula en la experiencia colectiva del enjambre. Controla cuánto se mueve una partícula hacia la mejor posición global conocida.\n",
        "* Función en el algoritmo: Este coeficiente pondera el impacto de la mejor posición global (mejor posición encontrada por cualquier partícula en el enjambre) en la actualización de la velocidad.\n",
        "* Ejemplo: Si c2 = 1.5, significa que la partícula tiene un impulso moderado para moverse hacia la mejor posición global."
      ],
      "metadata": {
        "id": "8RkdGh3LBsur"
      }
    },
    {
      "cell_type": "code",
      "source": [
        "import numpy as np\n",
        "\n",
        "# Definición de la función objetivo\n",
        "def objective_function(x):\n",
        "    return x**2\n",
        "\n",
        "# Parámetros del PSO\n",
        "num_particles = 30\n",
        "num_iterations = 100\n",
        "dim = 1  # Dimensionalidad del problema\n",
        "w = 0.5  # Inercia\n",
        "c1 = 1.5  # Coeficiente cognitivo\n",
        "c2 = 1.5  # Coeficiente social\n",
        "\n",
        "# Límites de las variables\n",
        "lb = -10\n",
        "ub = 10\n",
        "\n",
        "# Inicialización de las partículas\n",
        "particles = np.random.uniform(low=lb, high=ub, size=(num_particles, dim))\n",
        "velocities = np.random.uniform(low=-1, high=1, size=(num_particles, dim))\n",
        "\n",
        "# Inicialización de la mejor posición y valor para cada partícula\n",
        "personal_best_positions = particles.copy()\n",
        "personal_best_values = np.apply_along_axis(objective_function, 1, personal_best_positions)\n",
        "\n",
        "# Inicialización de la mejor posición y valor global\n",
        "global_best_position = personal_best_positions[np.argmin(personal_best_values)]\n",
        "global_best_value = min(personal_best_values)\n",
        "\n",
        "# Algoritmo PSO\n",
        "for i in range(num_iterations):\n",
        "    for j in range(num_particles):\n",
        "        # Actualización de la velocidad\n",
        "        r1 = np.random.rand(dim)\n",
        "        r2 = np.random.rand(dim)\n",
        "        velocities[j] = (w * velocities[j] +\n",
        "                         c1 * r1 * (personal_best_positions[j] - particles[j]) +\n",
        "                         c2 * r2 * (global_best_position - particles[j]))\n",
        "\n",
        "        # Actualización de la posición\n",
        "        particles[j] += velocities[j]\n",
        "\n",
        "        # Asegurarse de que las partículas estén dentro de los límites\n",
        "        particles[j] = np.clip(particles[j], lb, ub)\n",
        "\n",
        "        # Evaluación de la nueva posición\n",
        "        value = objective_function(particles[j])\n",
        "\n",
        "        # Actualización de la mejor posición personal\n",
        "        if value < personal_best_values[j]:\n",
        "            personal_best_positions[j] = particles[j]\n",
        "            personal_best_values[j] = value\n",
        "\n",
        "            # Actualización de la mejor posición global\n",
        "            if value < global_best_value:\n",
        "                global_best_position = particles[j]\n",
        "                global_best_value = value\n",
        "\n",
        "print(\"Mejor posición encontrada:\", global_best_position)\n",
        "print(\"Mejor valor encontrado:\", global_best_value)\n"
      ],
      "metadata": {
        "colab": {
          "base_uri": "https://localhost:8080/"
        },
        "id": "EtF04fnQBdCA",
        "outputId": "7d4030b8-69b8-4741-c4ee-d973a85d8ef6"
      },
      "execution_count": 5,
      "outputs": [
        {
          "output_type": "stream",
          "name": "stdout",
          "text": [
            "Mejor posición encontrada: [9.23850217e-13]\n",
            "Mejor valor encontrado: [5.73920031e-26]\n"
          ]
        }
      ]
    },
    {
      "cell_type": "code",
      "execution_count": 1,
      "metadata": {
        "colab": {
          "base_uri": "https://localhost:8080/"
        },
        "id": "78VX70g1_-RX",
        "outputId": "e7a32a50-308f-4549-db6b-e2dfed680c04"
      },
      "outputs": [
        {
          "output_type": "stream",
          "name": "stdout",
          "text": [
            "Collecting pyswarm\n",
            "  Downloading pyswarm-0.6.tar.gz (4.3 kB)\n",
            "  Preparing metadata (setup.py) ... \u001b[?25l\u001b[?25hdone\n",
            "Requirement already satisfied: numpy in /usr/local/lib/python3.10/dist-packages (from pyswarm) (1.25.2)\n",
            "Building wheels for collected packages: pyswarm\n",
            "  Building wheel for pyswarm (setup.py) ... \u001b[?25l\u001b[?25hdone\n",
            "  Created wheel for pyswarm: filename=pyswarm-0.6-py3-none-any.whl size=4464 sha256=241df94bb56ad0aae594fe2ab29a85e3bf0ecb7707464eafe561bef1941e0ec1\n",
            "  Stored in directory: /root/.cache/pip/wheels/71/67/40/62fa158f497f942277cbab8199b05cb61c571ab324e67ad0d6\n",
            "Successfully built pyswarm\n",
            "Installing collected packages: pyswarm\n",
            "Successfully installed pyswarm-0.6\n"
          ]
        }
      ],
      "source": [
        "!pip install pyswarm"
      ]
    },
    {
      "cell_type": "markdown",
      "source": [
        "En este código:\n",
        "\n",
        "*   Importamos pso desde la biblioteca pyswarm.\n",
        "*   Definimos la función objetivo, que en este caso es la función de Rosenbrock. Esta función es comúnmente utilizada como un problema de prueba para algoritmos de optimización.\n",
        "*   Establecemos los límites inferiores (lb) y superiores (ub) para las variables de decisión.\n",
        "*   Ejecutamos el algoritmo PSO llamando a pso con la función objetivo y los límites, además de algunos parámetros opcionales como el tamaño del enjambre (swarmsize) y el número máximo de iteraciones (maxiter).\n",
        "*   Imprimimos la mejor posición y el mejor valor encontrados por el algoritmo."
      ],
      "metadata": {
        "id": "SBjUU9OWAMMm"
      }
    },
    {
      "cell_type": "code",
      "source": [
        "from pyswarm import pso\n",
        "import numpy as np\n",
        "\n",
        "# Definición de la función objetivo\n",
        "def objective_function(x):\n",
        "    return x[0]**2\n",
        "\n",
        "# Límites de las variables (en este caso, solo una variable)\n",
        "lb = [-10]\n",
        "ub = [10]\n",
        "\n",
        "\n",
        "# Ejecución del algoritmo PSO\n",
        "best_position, best_value = pso(objective_function, lb, ub, swarmsize=30, maxiter=100)\n",
        "\n",
        "print(\"Mejor posición encontrada:\", best_position)\n",
        "print(\"Mejor valor encontrado:\", best_value)\n"
      ],
      "metadata": {
        "colab": {
          "base_uri": "https://localhost:8080/"
        },
        "id": "vq5Kx_kNAG5i",
        "outputId": "d8b3fe8f-6ec9-4ad4-8431-64b0caea91ef"
      },
      "execution_count": 7,
      "outputs": [
        {
          "output_type": "stream",
          "name": "stdout",
          "text": [
            "Stopping search: Swarm best objective change less than 1e-08\n",
            "Mejor posición encontrada: [1.00675149e-05]\n",
            "Mejor valor encontrado: 1.0135485583192685e-10\n"
          ]
        }
      ]
    },
    {
      "cell_type": "markdown",
      "source": [
        "La función de Rastrigin para\n",
        "𝑛\n",
        "n dimensiones se define como:\n",
        "\n",
        "𝑓\n",
        "(\n",
        "𝑥\n",
        ")\n",
        "=\n",
        "10\n",
        "𝑛\n",
        "+\n",
        "∑\n",
        "𝑖\n",
        "=\n",
        "1\n",
        "𝑛\n",
        "[\n",
        "𝑥\n",
        "𝑖\n",
        "2\n",
        "−\n",
        "10\n",
        "cos\n",
        "⁡\n",
        "(\n",
        "2\n",
        "𝜋\n",
        "𝑥\n",
        "𝑖\n",
        ")\n",
        "]\n",
        "\n",
        "Donde\n",
        "𝑛\n",
        "n es la dimensionalidad del problema."
      ],
      "metadata": {
        "id": "5hU-D49THWmZ"
      }
    },
    {
      "cell_type": "markdown",
      "source": [
        "Descripción del código:\n",
        "\n",
        "* Definición de la función objetivo: La función de Rastrigin se define para\n",
        "𝑛\n",
        "n dimensiones. Aquí usamos una lista de comprensión para calcular la suma de\n",
        "𝑥\n",
        "𝑖\n",
        "2\n",
        "−\n",
        "10\n",
        "cos\n",
        "⁡\n",
        "(\n",
        "2\n",
        "𝜋\n",
        "𝑥\n",
        "𝑖\n",
        ")\n",
        "\n",
        "* Dimensionalidad del problema: Establecemos dim en 2, lo que significa que estamos optimizando en un espacio bidimensional.\n",
        "* Límites de las variables: Establecemos los límites inferiores (lb) y superiores (ub) para cada variable en\n",
        "[−5.12,5.12], que es el rango típico para la función de Rastrigin.\n",
        "* Ejecución del algoritmo PSO: Llamamos a pso con la función objetivo, los límites de las variables, el tamaño del enjambre (swarmsize), y el número máximo de iteraciones (maxiter).\n",
        "* Impresión de los resultados: Mostramos la mejor posición y el mejor valor encontrados por el algoritmo."
      ],
      "metadata": {
        "id": "sOpdOw2kHmH6"
      }
    },
    {
      "cell_type": "code",
      "source": [
        "from pyswarm import pso\n",
        "import numpy as np\n",
        "\n",
        "# Definición de la función objetivo (Rastrigin)\n",
        "def rastrigin(x):\n",
        "    n = len(x)\n",
        "    A = 10\n",
        "    return A * n + sum([(xi**2 - A * np.cos(2 * np.pi * xi)) for xi in x])\n",
        "\n",
        "# Dimensionalidad del problema\n",
        "dim = 2\n",
        "\n",
        "# Límites de las variables\n",
        "lb = [-5.12] * dim\n",
        "ub = [5.12] * dim\n",
        "\n",
        "# Ejecución del algoritmo PSO\n",
        "best_position, best_value = pso(rastrigin, lb, ub, swarmsize=30, maxiter=100)\n",
        "\n",
        "print(\"Mejor posición encontrada:\", best_position)\n",
        "print(\"Mejor valor encontrado:\", best_value)\n"
      ],
      "metadata": {
        "colab": {
          "base_uri": "https://localhost:8080/"
        },
        "id": "MW4zB0ODHVvM",
        "outputId": "79b12ff3-ce70-4ea9-b5d6-5d9c9d5179ee"
      },
      "execution_count": 8,
      "outputs": [
        {
          "output_type": "stream",
          "name": "stdout",
          "text": [
            "Stopping search: Swarm best objective change less than 1e-08\n",
            "Mejor posición encontrada: [-2.12226407e-06 -9.94962873e-01]\n",
            "Mejor valor encontrado: 0.9949590615445416\n"
          ]
        }
      ]
    }
  ]
}