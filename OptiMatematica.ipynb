{
  "nbformat": 4,
  "nbformat_minor": 0,
  "metadata": {
    "colab": {
      "provenance": [],
      "authorship_tag": "ABX9TyOjUaYbrCX/3mx7YZ3ZIQOi",
      "include_colab_link": true
    },
    "kernelspec": {
      "name": "python3",
      "display_name": "Python 3"
    },
    "language_info": {
      "name": "python"
    }
  },
  "cells": [
    {
      "cell_type": "markdown",
      "metadata": {
        "id": "view-in-github",
        "colab_type": "text"
      },
      "source": [
        "<a href=\"https://colab.research.google.com/github/hc2twv/UPSE_OP/blob/main/OptiMatematica.ipynb\" target=\"_parent\"><img src=\"https://colab.research.google.com/assets/colab-badge.svg\" alt=\"Open In Colab\"/></a>"
      ]
    },
    {
      "cell_type": "code",
      "source": [
        "#Algoritmo de programacion lineal\n",
        "#Maximizar z=3x+2y\n",
        "#Sujeto a las restricciones:\n",
        "# 1. 2x+y≤20\n",
        "# 2. 4x−5y≤10\n",
        "# 3. x≥0\n",
        "# 4. y≥0\n",
        "\n",
        "from scipy.optimize import linprog\n",
        "\n",
        "# Coeficientes de la función objetivo\n",
        "c = [-3, -2]  # Se usa -3 y -2 porque linprog por defecto minimiza\n",
        "\n",
        "# Coeficientes de las restricciones (lado izquierdo)\n",
        "A = [\n",
        "    [2, 1],\n",
        "    [4, -5]\n",
        "]\n",
        "\n",
        "# Coeficientes de las restricciones (lado derecho)\n",
        "b = [20, 10]\n",
        "\n",
        "# Límite inferior de las variables (x, y >= 0)\n",
        "x_bounds = (0, None)\n",
        "y_bounds = (0, None)\n",
        "\n",
        "# Ejecutar la optimización\n",
        "result = linprog(c, A_ub=A, b_ub=b, bounds=[x_bounds, y_bounds], method='highs')\n",
        "\n",
        "# Imprimir los resultados\n",
        "if result.success:\n",
        "    print(f\"Valor óptimo de z: {-result.fun}\")\n",
        "    print(f\"Valores óptimos de las variables: x = {result.x[0]}, y = {result.x[1]}\")\n",
        "else:\n",
        "    print(\"No se encontró una solución óptima.\")\n",
        "\n",
        "\n",
        "# Explicación del Código\n",
        "#Coeficientes de la Función Objetivo: Definimos los coeficientes de la función objetivo  c=[−3,−2].\n",
        "#Usamos negativos porque linprog por defecto minimiza la función objetivo.\n",
        "#Coeficientes de las Restricciones: Definimos los coeficientes de las restricciones A y b.\n",
        "# A contiene los coeficientes del lado izquierdo de las restricciones.\n",
        "# b contiene los valores del lado derecho de las restricciones.\n",
        "#Límites de las Variables: Establecemos los límites inferiores de las variables de decisión para asegurarnos de que x y y sean no negativos.\n",
        "#Método linprog: Usamos linprog para resolver el problema de programación lineal. El método 'highs' es uno de los métodos internos de SciPy para resolver problemas de optimización lineal.\n",
        "#Resultados: Si se encuentra una solución óptima, se imprime el valor óptimo de\n",
        "#z y los valores óptimos de las variables x y y."
      ],
      "metadata": {
        "colab": {
          "base_uri": "https://localhost:8080/"
        },
        "id": "W7nEKc2bI14z",
        "outputId": "f8ff9c7c-4705-44dd-fe32-0b57a771b43d"
      },
      "execution_count": null,
      "outputs": [
        {
          "output_type": "stream",
          "name": "stdout",
          "text": [
            "Valor óptimo de z: 40.0\n",
            "Valores óptimos de las variables: x = 0.0, y = 20.0\n"
          ]
        }
      ]
    }
  ]
}