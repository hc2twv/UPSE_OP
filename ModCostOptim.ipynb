{
  "nbformat": 4,
  "nbformat_minor": 0,
  "metadata": {
    "colab": {
      "provenance": [],
      "authorship_tag": "ABX9TyNpaAArw4YUKkFYSc3StLw7",
      "include_colab_link": true
    },
    "kernelspec": {
      "name": "python3",
      "display_name": "Python 3"
    },
    "language_info": {
      "name": "python"
    }
  },
  "cells": [
    {
      "cell_type": "markdown",
      "metadata": {
        "id": "view-in-github",
        "colab_type": "text"
      },
      "source": [
        "<a href=\"https://colab.research.google.com/github/hc2twv/UPSE_OP/blob/main/ModCostOptim.ipynb\" target=\"_parent\"><img src=\"https://colab.research.google.com/assets/colab-badge.svg\" alt=\"Open In Colab\"/></a>"
      ]
    },
    {
      "cell_type": "code",
      "source": [
        "!pip install pulp"
      ],
      "metadata": {
        "colab": {
          "base_uri": "https://localhost:8080/"
        },
        "id": "OJHRDoNgSeaD",
        "outputId": "cd9217e4-1d1c-4448-b680-a26fb4c43de9"
      },
      "execution_count": 2,
      "outputs": [
        {
          "output_type": "stream",
          "name": "stdout",
          "text": [
            "Collecting pulp\n",
            "  Downloading PuLP-2.8.0-py3-none-any.whl (17.7 MB)\n",
            "\u001b[2K     \u001b[90m━━━━━━━━━━━━━━━━━━━━━━━━━━━━━━━━━━━━━━━━\u001b[0m \u001b[32m17.7/17.7 MB\u001b[0m \u001b[31m45.5 MB/s\u001b[0m eta \u001b[36m0:00:00\u001b[0m\n",
            "\u001b[?25hInstalling collected packages: pulp\n",
            "Successfully installed pulp-2.8.0\n"
          ]
        }
      ]
    },
    {
      "cell_type": "markdown",
      "source": [
        "En este código:\n",
        "\n",
        "* Creación del problema: Se define un problema de optimización de minimización utilizando pulp.LpProblem.\n",
        "\n",
        "* Variables de decisión: Se crean variables continuas x1, x2, x3 que podrían representar, por ejemplo, la cantidad de recursos asignados a diferentes nodos de la red.\n",
        "\n",
        "* Función objetivo: Se define la función objetivo como una combinación lineal de las variables de decisión, representando los costos operativos.\n",
        "\n",
        "* Restricciones: Se añaden varias restricciones lineales que podrían representar la capacidad mínima requerida entre diferentes nodos.\n",
        "\n",
        "* Resolución del problema: Se utiliza el método solve para encontrar los valores óptimos de las variables que minimizan el costo mientras satisfacen las restricciones.\n",
        "\n",
        "* Resultados: Se imprimen el estado de la solución, el costo total y los valores óptimos de las variables de decisión.1"
      ],
      "metadata": {
        "id": "f59jQhzJSz9f"
      }
    },
    {
      "cell_type": "code",
      "execution_count": 3,
      "metadata": {
        "colab": {
          "base_uri": "https://localhost:8080/"
        },
        "id": "De71F0kuSYBL",
        "outputId": "eefbfcd0-5294-4e5f-a491-398f08080bf5"
      },
      "outputs": [
        {
          "output_type": "stream",
          "name": "stdout",
          "text": [
            "Estado: Optimal\n",
            "Costo Total: 110.0\n",
            "x1: 10.0\n",
            "x2: 0.0\n",
            "x3: 20.0\n"
          ]
        }
      ],
      "source": [
        "import pulp\n",
        "\n",
        "# Crear el problema de minimización\n",
        "problem = pulp.LpProblem(\"Network_Optimization\", pulp.LpMinimize)\n",
        "\n",
        "# Definir las variables de decisión\n",
        "# Ejemplo: cantidad de recursos a asignar en diferentes nodos de la red\n",
        "x1 = pulp.LpVariable('x1', lowBound=0, cat='Continuous')\n",
        "x2 = pulp.LpVariable('x2', lowBound=0, cat='Continuous')\n",
        "x3 = pulp.LpVariable('x3', lowBound=0, cat='Continuous')\n",
        "\n",
        "# Definir la función objetivo (minimizar costos operativos)\n",
        "# Ejemplo: Costo total = costo_unitario_nodo1 * x1 + costo_unitario_nodo2 * x2 + costo_unitario_nodo3 * x3\n",
        "cost = 5*x1 + 8*x2 + 3*x3\n",
        "problem += cost, \"Costo_Total\"\n",
        "\n",
        "# Definir las restricciones del problema\n",
        "# Ejemplo: Restricciones de capacidad y rendimiento\n",
        "# Capacidad de nodo1 + nodo2 >= 10\n",
        "problem += x1 + x2 >= 10, \"Capacidad_Nodo1_Nodo2\"\n",
        "# Capacidad de nodo2 + nodo3 >= 20\n",
        "problem += x2 + x3 >= 20, \"Capacidad_Nodo2_Nodo3\"\n",
        "# Capacidad de nodo1 + nodo3 >= 15\n",
        "problem += x1 + x3 >= 15, \"Capacidad_Nodo1_Nodo3\"\n",
        "\n",
        "# Resolver el problema\n",
        "problem.solve()\n",
        "\n",
        "# Imprimir los resultados\n",
        "print(\"Estado:\", pulp.LpStatus[problem.status])\n",
        "print(\"Costo Total:\", pulp.value(problem.objective))\n",
        "print(\"x1:\", pulp.value(x1))\n",
        "print(\"x2:\", pulp.value(x2))\n",
        "print(\"x3:\", pulp.value(x3))\n"
      ]
    },
    {
      "cell_type": "markdown",
      "source": [
        "Un ejemplo más complejo en el campo de las telecomunicaciones. Supondremos que estamos gestionando una red de telecomunicaciones con varios nodos, enlaces y tráfico que debe ser enrutado a través de la red. Queremos minimizar los costos operativos y de transmisión mientras satisfacemos las demandas de tráfico y las capacidades de los enlaces."
      ],
      "metadata": {
        "id": "sC72sgAsTVc-"
      }
    },
    {
      "cell_type": "markdown",
      "source": [
        "En este código:\n",
        "\n",
        "* Definición del problema: Se define un problema de minimización utilizando pulp.LpProblem.\n",
        "\n",
        "* Datos del problema: Se definen los nodos, enlaces (con capacidad y costo), y las demandas de tráfico entre nodos.\n",
        "\n",
        "* Variables de decisión: Se crean variables continuas x[(i, j)] que representan el flujo de tráfico en cada enlace.\n",
        "\n",
        "* Función objetivo: Se define la función objetivo como la suma de los productos del flujo de tráfico en cada enlace y su costo, con el objetivo de minimizar esta suma.\n",
        "\n",
        "* Restricciones:\n",
        "\n",
        "  * Capacidad de los enlaces: Asegura que el flujo en cada enlace no supere su capacidad.\n",
        "  * Balance de flujo en los nodos: Asegura que el flujo entrante y saliente en cada nodo sea equilibrado según las demandas de tráfico.\n",
        "\n",
        "* Resolución del problema: Se utiliza el método solve para encontrar los valores óptimos de las variables que minimizan el costo mientras satisfacen las restricciones.\n",
        "\n",
        "* Resultados: Se imprimen el estado de la solución, el costo total y los flujos de tráfico en cada enlace."
      ],
      "metadata": {
        "id": "aSvNqQ47UiVu"
      }
    },
    {
      "cell_type": "code",
      "source": [
        "import pulp\n",
        "\n",
        "# Crear el problema de minimización\n",
        "problem = pulp.LpProblem(\"Telecom_Network_Optimization\", pulp.LpMinimize)\n",
        "\n",
        "# Definir los datos del problema\n",
        "# Nodos\n",
        "nodos = ['A', 'B', 'C', 'D']\n",
        "\n",
        "# Enlaces (de, a) con capacidad y costo\n",
        "enlaces = {\n",
        "    ('A', 'B'): {'capacidad': 15, 'costo': 2},\n",
        "    ('A', 'C'): {'capacidad': 10, 'costo': 4},\n",
        "    ('B', 'C'): {'capacidad': 20, 'costo': 1},\n",
        "    ('B', 'D'): {'capacidad': 10, 'costo': 3},\n",
        "    ('C', 'D'): {'capacidad': 25, 'costo': 2}\n",
        "}\n",
        "\n",
        "# Demandas de tráfico (de, a) y la cantidad de tráfico\n",
        "demandas = {\n",
        "    ('A', 'D'): 10,\n",
        "    ('B', 'D'): 15,\n",
        "    ('A', 'C'): 5\n",
        "}\n",
        "\n",
        "# Crear las variables de decisión\n",
        "# x[(i, j)] es el flujo de tráfico en el enlace de i a j\n",
        "x = pulp.LpVariable.dicts(\"x\", enlaces, lowBound=0, cat='Continuous')\n",
        "\n",
        "# Definir la función objetivo (minimizar costos operativos y de transmisión)\n",
        "problem += pulp.lpSum([x[(i, j)] * enlaces[(i, j)]['costo'] for (i, j) in enlaces]), \"Costo_Total\"\n",
        "\n",
        "# Definir las restricciones de capacidad de los enlaces\n",
        "for (i, j) in enlaces:\n",
        "    problem += x[(i, j)] <= enlaces[(i, j)]['capacidad'], f\"Capacidad_Enlace_{i}_{j}\"\n",
        "\n",
        "# Definir las restricciones de balance de flujo en cada nodo\n",
        "for nodo in nodos:\n",
        "    flujo_entrante = pulp.lpSum([x[(i, j)] for (i, j) in enlaces if j == nodo])\n",
        "    flujo_saliente = pulp.lpSum([x[(i, j)] for (i, j) in enlaces if i == nodo])\n",
        "\n",
        "    demanda_entrante = pulp.lpSum([demanda for (origen, destino), demanda in demandas.items() if destino == nodo])\n",
        "    demanda_saliente = pulp.lpSum([demanda for (origen, destino), demanda in demandas.items() if origen == nodo])\n",
        "\n",
        "    problem += (flujo_entrante + demanda_saliente) == (flujo_saliente + demanda_entrante), f\"Balance_Flujo_{nodo}\"\n",
        "\n",
        "# Resolver el problema\n",
        "problem.solve()\n",
        "\n",
        "# Imprimir los resultados\n",
        "print(\"Estado:\", pulp.LpStatus[problem.status])\n",
        "print(\"Costo Total:\", pulp.value(problem.objective))\n",
        "for (i, j) in enlaces:\n",
        "    print(f\"Flujo en el enlace {i}->{j}: {pulp.value(x[(i, j)])} unidades\")\n"
      ],
      "metadata": {
        "colab": {
          "base_uri": "https://localhost:8080/"
        },
        "id": "gSJgvbpRToU_",
        "outputId": "624cb5ea-3d4a-4c23-cb95-fd94350ad5f3"
      },
      "execution_count": 10,
      "outputs": [
        {
          "output_type": "stream",
          "name": "stdout",
          "text": [
            "Estado: Infeasible\n",
            "Costo Total: 350.0\n",
            "Flujo en el enlace A->B: 25.0 unidades\n",
            "Flujo en el enlace A->C: 10.0 unidades\n",
            "Flujo en el enlace B->C: 40.0 unidades\n",
            "Flujo en el enlace B->D: 10.0 unidades\n",
            "Flujo en el enlace C->D: 35.0 unidades\n"
          ]
        }
      ]
    },
    {
      "cell_type": "markdown",
      "source": [
        "Escenario 1: Alta capacidad y baja demanda\n",
        "En este escenario, los enlaces tienen alta capacidad y las demandas de tráfico son relativamente bajas.\n",
        "\n",
        "enlaces_escenario1 = {\n",
        "    ('A', 'B'): {'capacidad': 50, 'costo': 2},\n",
        "    ('A', 'C'): {'capacidad': 40, 'costo': 3},\n",
        "    ('B', 'C'): {'capacidad': 60, 'costo': 1},\n",
        "    ('B', 'D'): {'capacidad': 30, 'costo': 2},\n",
        "    ('C', 'D'): {'capacidad': 70, 'costo': 1}\n",
        "}\n",
        "\n",
        "demandas_escenario1 = {\n",
        "    ('A', 'D'): 10,\n",
        "    ('B', 'D'): 20,\n",
        "    ('A', 'C'): 5\n",
        "}\n"
      ],
      "metadata": {
        "id": "7P5weXF3VDrj"
      }
    },
    {
      "cell_type": "markdown",
      "source": [
        "Escenario 2: Baja capacidad y alta demanda\n",
        "En este escenario, los enlaces tienen baja capacidad y las demandas de tráfico son relativamente altas.\n",
        "\n",
        "enlaces_escenario2 = {\n",
        "    ('A', 'B'): {'capacidad': 15, 'costo': 3},\n",
        "    ('A', 'C'): {'capacidad': 10, 'costo': 5},\n",
        "    ('B', 'C'): {'capacidad': 20, 'costo': 2},\n",
        "    ('B', 'D'): {'capacidad': 10, 'costo': 4},\n",
        "    ('C', 'D'): {'capacidad': 25, 'costo': 3}\n",
        "}\n",
        "\n",
        "demandas_escenario2 = {\n",
        "    ('A', 'D'): 20,\n",
        "    ('B', 'D'): 25,\n",
        "    ('A', 'C'): 15\n",
        "}\n"
      ],
      "metadata": {
        "id": "GkW2BfXDVHA2"
      }
    },
    {
      "cell_type": "markdown",
      "source": [
        "Escenario 3: Balanceado\n",
        "En este escenario, las capacidades y las demandas están balanceadas.\n",
        "\n",
        "enlaces_escenario3 = {\n",
        "    ('A', 'B'): {'capacidad': 25, 'costo': 2},\n",
        "    ('A', 'C'): {'capacidad': 20, 'costo': 3},\n",
        "    ('B', 'C'): {'capacidad': 30, 'costo': 1},\n",
        "    ('B', 'D'): {'capacidad': 20, 'costo': 2},\n",
        "    ('C', 'D'): {'capacidad': 35, 'costo': 1}\n",
        "}\n",
        "\n",
        "demandas_escenario3 = {\n",
        "    ('A', 'D'): 15,\n",
        "    ('B', 'D'): 15,\n",
        "    ('A', 'C'): 10\n",
        "}\n"
      ],
      "metadata": {
        "id": "RTDH-1F8VNST"
      }
    }
  ]
}