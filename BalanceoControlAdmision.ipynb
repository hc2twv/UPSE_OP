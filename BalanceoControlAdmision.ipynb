{
  "nbformat": 4,
  "nbformat_minor": 0,
  "metadata": {
    "colab": {
      "provenance": [],
      "authorship_tag": "ABX9TyNxoKE2obADFl3SRk77VxSH",
      "include_colab_link": true
    },
    "kernelspec": {
      "name": "python3",
      "display_name": "Python 3"
    },
    "language_info": {
      "name": "python"
    }
  },
  "cells": [
    {
      "cell_type": "markdown",
      "metadata": {
        "id": "view-in-github",
        "colab_type": "text"
      },
      "source": [
        "<a href=\"https://colab.research.google.com/github/hc2twv/UPSE_OP/blob/main/BalanceoControlAdmision.ipynb\" target=\"_parent\"><img src=\"https://colab.research.google.com/assets/colab-badge.svg\" alt=\"Open In Colab\"/></a>"
      ]
    },
    {
      "cell_type": "markdown",
      "source": [
        "El control de admisión basado en el número de usuarios es una técnica de balanceo de carga que decide si una nueva solicitud puede ser atendida por un servidor en función del número de usuarios actuales que están siendo atendidos por ese servidor. Si un servidor ha alcanzado su límite máximo de usuarios, la solicitud se asigna a otro servidor con menos carga.\n",
        "\n"
      ],
      "metadata": {
        "id": "bXRC6nfUJIHa"
      }
    },
    {
      "cell_type": "code",
      "execution_count": 2,
      "metadata": {
        "colab": {
          "base_uri": "https://localhost:8080/"
        },
        "id": "xew4Ph3fJC_6",
        "outputId": "7d54b534-17bb-480f-adb8-d4c9879f013c"
      },
      "outputs": [
        {
          "output_type": "stream",
          "name": "stdout",
          "text": [
            "Solicitud 1 asignada a Server1(Users: 1/5)\n",
            "Solicitud 2 asignada a Server1(Users: 2/5)\n",
            "Solicitud 3 asignada a Server1(Users: 3/5)\n",
            "Solicitud 4 asignada a Server1(Users: 4/5)\n",
            "Solicitud 5 asignada a Server1(Users: 5/5)\n",
            "Solicitud 6 asignada a Server2(Users: 1/3)\n",
            "Solicitud 7 asignada a Server2(Users: 2/3)\n",
            "Solicitud 8 asignada a Server2(Users: 3/3)\n",
            "Solicitud 9 asignada a Server3(Users: 1/4)\n",
            "Solicitud 10 asignada a Server3(Users: 2/4)\n",
            "\n",
            "Estado final de cada servidor:\n",
            "Server1(Users: 5/5)\n",
            "Server2(Users: 3/3)\n",
            "Server3(Users: 2/4)\n",
            "Server4(Users: 0/2)\n",
            "\n",
            "Liberando usuarios de Server1 y Server2...\n",
            "\n",
            "Estado final de cada servidor después de liberar algunos usuarios:\n",
            "Server1(Users: 4/5)\n",
            "Server2(Users: 2/3)\n",
            "Server3(Users: 2/4)\n",
            "Server4(Users: 0/2)\n"
          ]
        }
      ],
      "source": [
        "class Server:\n",
        "    def __init__(self, name, max_users):\n",
        "        self.name = name\n",
        "        self.max_users = max_users\n",
        "        self.current_users = 0\n",
        "\n",
        "    def can_accept_user(self):\n",
        "        return self.current_users < self.max_users\n",
        "\n",
        "    def assign_user(self):\n",
        "        if self.can_accept_user():\n",
        "            self.current_users += 1\n",
        "            return True\n",
        "        return False\n",
        "\n",
        "    def release_user(self):\n",
        "        if self.current_users > 0:\n",
        "            self.current_users -= 1\n",
        "\n",
        "    def __repr__(self):\n",
        "        return f\"{self.name}(Users: {self.current_users}/{self.max_users})\"\n",
        "\n",
        "\n",
        "class UserBasedLoadBalancer:\n",
        "    def __init__(self, servers):\n",
        "        self.servers = servers\n",
        "\n",
        "    def assign_request(self):\n",
        "        # Encuentra el servidor que puede aceptar más usuarios\n",
        "        for server in self.servers:\n",
        "            if server.can_accept_user():\n",
        "                if server.assign_user():\n",
        "                    return server\n",
        "        return None\n",
        "\n",
        "    def release_user_from_server(self, server_name):\n",
        "        for server in self.servers:\n",
        "            if server.name == server_name:\n",
        "                server.release_user()\n",
        "\n",
        "# Lista de servidores con un límite máximo de usuarios\n",
        "servers = [Server('Server1', 5), Server('Server2', 3), Server('Server3', 4), Server('Server4', 2)]\n",
        "\n",
        "# Inicializa el balanceador de carga basado en el número de usuarios\n",
        "load_balancer = UserBasedLoadBalancer(servers)\n",
        "\n",
        "# Simula la distribución de 10 solicitudes\n",
        "for i in range(10):\n",
        "    server = load_balancer.assign_request()\n",
        "    if server:\n",
        "        print(f\"Solicitud {i + 1} asignada a {server}\")\n",
        "    else:\n",
        "        print(f\"Solicitud {i + 1} no pudo ser asignada - todos los servidores están llenos\")\n",
        "\n",
        "# Muestra el estado final de cada servidor\n",
        "print(\"\\nEstado final de cada servidor:\")\n",
        "for server in servers:\n",
        "    print(server)\n",
        "\n",
        "# Simula la liberación de algunos usuarios\n",
        "print(\"\\nLiberando usuarios de Server1 y Server2...\")\n",
        "load_balancer.release_user_from_server('Server1')\n",
        "load_balancer.release_user_from_server('Server2')\n",
        "\n",
        "# Muestra el estado final de cada servidor después de liberar algunos usuarios\n",
        "print(\"\\nEstado final de cada servidor después de liberar algunos usuarios:\")\n",
        "for server in servers:\n",
        "    print(server)\n"
      ]
    },
    {
      "cell_type": "markdown",
      "source": [
        "El control de admisión basado en la calidad de la señal distribuye las solicitudes a los servidores según la calidad de la señal. Si la calidad de la señal de un servidor cae por debajo de un cierto umbral, no se asignan nuevas solicitudes a ese servidor."
      ],
      "metadata": {
        "id": "o1jYfig7ZAdC"
      }
    },
    {
      "cell_type": "code",
      "source": [
        "import random\n",
        "\n",
        "class Server:\n",
        "    def __init__(self, name, min_signal_quality):\n",
        "        self.name = name\n",
        "        self.min_signal_quality = min_signal_quality\n",
        "        self.signal_quality = random.uniform(0, 1)  # Calidad de la señal inicial entre 0 y 1\n",
        "        self.current_users = 0\n",
        "\n",
        "    def update_signal_quality(self):\n",
        "        # Simula la variación de la calidad de la señal\n",
        "        self.signal_quality = random.uniform(0, 1)\n",
        "\n",
        "    def can_accept_user(self):\n",
        "        return self.signal_quality >= self.min_signal_quality\n",
        "\n",
        "    def assign_user(self):\n",
        "        if self.can_accept_user():\n",
        "            self.current_users += 1\n",
        "            return True\n",
        "        return False\n",
        "\n",
        "    def release_user(self):\n",
        "        if self.current_users > 0:\n",
        "            self.current_users -= 1\n",
        "\n",
        "    def __repr__(self):\n",
        "        return f\"{self.name}(Signal Quality: {self.signal_quality:.2f}, Users: {self.current_users})\"\n",
        "\n",
        "\n",
        "class SignalQualityLoadBalancer:\n",
        "    def __init__(self, servers):\n",
        "        self.servers = servers\n",
        "\n",
        "    def assign_request(self):\n",
        "        # Actualiza la calidad de la señal antes de asignar\n",
        "        for server in self.servers:\n",
        "            server.update_signal_quality()\n",
        "\n",
        "        # Encuentra el servidor que puede aceptar más usuarios basado en la calidad de la señal\n",
        "        for server in self.servers:\n",
        "            if server.can_accept_user():\n",
        "                if server.assign_user():\n",
        "                    return server\n",
        "        return None\n",
        "\n",
        "    def release_user_from_server(self, server_name):\n",
        "        for server in self.servers:\n",
        "            if server.name == server_name:\n",
        "                server.release_user()\n",
        "\n",
        "# Lista de servidores con un umbral mínimo de calidad de la señal\n",
        "servers = [\n",
        "    Server('Server1', 0.5),\n",
        "    Server('Server2', 0.3),\n",
        "    Server('Server3', 0.4),\n",
        "    Server('Server4', 0.6)\n",
        "]\n",
        "\n",
        "# Inicializa el balanceador de carga basado en la calidad de la señal\n",
        "load_balancer = SignalQualityLoadBalancer(servers)\n",
        "\n",
        "# Simula la distribución de 10 solicitudes\n",
        "for i in range(10):\n",
        "    server = load_balancer.assign_request()\n",
        "    if server:\n",
        "        print(f\"Solicitud {i + 1} asignada a {server}\")\n",
        "    else:\n",
        "        print(f\"Solicitud {i + 1} no pudo ser asignada - todos los servidores tienen una señal insuficiente\")\n",
        "\n",
        "# Muestra el estado final de cada servidor\n",
        "print(\"\\nEstado final de cada servidor:\")\n",
        "for server in servers:\n",
        "    print(server)\n",
        "\n",
        "# Simula la liberación de algunos usuarios\n",
        "print(\"\\nLiberando usuarios de Server1 y Server2...\")\n",
        "load_balancer.release_user_from_server('Server1')\n",
        "load_balancer.release_user_from_server('Server2')\n",
        "\n",
        "# Muestra el estado final de cada servidor después de liberar algunos usuarios\n",
        "print(\"\\nEstado final de cada servidor después de liberar algunos usuarios:\")\n",
        "for server in servers:\n",
        "    print(server)\n"
      ],
      "metadata": {
        "colab": {
          "base_uri": "https://localhost:8080/"
        },
        "id": "c4IjxwumZC1n",
        "outputId": "43f205f9-428f-4d5c-ce6e-7a8347cebe30"
      },
      "execution_count": 3,
      "outputs": [
        {
          "output_type": "stream",
          "name": "stdout",
          "text": [
            "Solicitud 1 asignada a Server2(Signal Quality: 0.46, Users: 1)\n",
            "Solicitud 2 asignada a Server2(Signal Quality: 0.51, Users: 2)\n",
            "Solicitud 3 asignada a Server2(Signal Quality: 0.32, Users: 3)\n",
            "Solicitud 4 asignada a Server1(Signal Quality: 0.77, Users: 1)\n",
            "Solicitud 5 asignada a Server1(Signal Quality: 0.89, Users: 2)\n",
            "Solicitud 6 asignada a Server1(Signal Quality: 0.92, Users: 3)\n",
            "Solicitud 7 asignada a Server3(Signal Quality: 0.48, Users: 1)\n",
            "Solicitud 8 asignada a Server2(Signal Quality: 0.54, Users: 4)\n",
            "Solicitud 9 asignada a Server2(Signal Quality: 0.84, Users: 5)\n",
            "Solicitud 10 asignada a Server2(Signal Quality: 0.37, Users: 6)\n",
            "\n",
            "Estado final de cada servidor:\n",
            "Server1(Signal Quality: 0.05, Users: 3)\n",
            "Server2(Signal Quality: 0.37, Users: 6)\n",
            "Server3(Signal Quality: 0.52, Users: 1)\n",
            "Server4(Signal Quality: 0.96, Users: 0)\n",
            "\n",
            "Liberando usuarios de Server1 y Server2...\n",
            "\n",
            "Estado final de cada servidor después de liberar algunos usuarios:\n",
            "Server1(Signal Quality: 0.05, Users: 2)\n",
            "Server2(Signal Quality: 0.37, Users: 5)\n",
            "Server3(Signal Quality: 0.52, Users: 1)\n",
            "Server4(Signal Quality: 0.96, Users: 0)\n"
          ]
        }
      ]
    }
  ]
}