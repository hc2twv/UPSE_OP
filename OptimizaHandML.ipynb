{
  "nbformat": 4,
  "nbformat_minor": 0,
  "metadata": {
    "colab": {
      "provenance": [],
      "authorship_tag": "ABX9TyNwVe6LsHIvJ8wCVWlJ98S1",
      "include_colab_link": true
    },
    "kernelspec": {
      "name": "python3",
      "display_name": "Python 3"
    },
    "language_info": {
      "name": "python"
    }
  },
  "cells": [
    {
      "cell_type": "markdown",
      "metadata": {
        "id": "view-in-github",
        "colab_type": "text"
      },
      "source": [
        "<a href=\"https://colab.research.google.com/github/hc2twv/UPSE_OP/blob/main/OptimizaHandML.ipynb\" target=\"_parent\"><img src=\"https://colab.research.google.com/assets/colab-badge.svg\" alt=\"Open In Colab\"/></a>"
      ]
    },
    {
      "cell_type": "markdown",
      "source": [
        " Desarrollar un algoritmo de handover eficiente utilizando machine learning (ML) se necesitan varias cosas, primero describimos el proceso general y luego proporcionamos un código de ejemplo en Python utilizando una biblioteca popular de ML, como Scikit-Learn. Este algoritmo utilizará datos históricos para entrenar un modelo que prediga cuándo se debe realizar un handover basado en la calidad del servicio (QoS)."
      ],
      "metadata": {
        "id": "dGz4GiiyauBm"
      }
    },
    {
      "cell_type": "markdown",
      "source": [
        "Proceso General\n",
        "  1. Recopilación de Datos:Recopilar datos históricos sobre handovers, incluyendo métricas de QoS como RSSI, latencia, pérdida de paquetes, velocidad del usuario, etc.\n",
        "  2. Preprocesamiento de Datos:\n",
        "    - Limpiar y normalizar los datos.\n",
        "    - Dividir los datos en conjuntos de entrenamiento y prueba.\n",
        "  3. Entrenamiento del Modelo:\n",
        "    - Seleccionar un algoritmo de ML adecuado (por ejemplo, Random Forest, SVM, etc.).\n",
        "    - Entrenar el modelo con los datos de entrenamiento.\n",
        "  4. Evaluación del Modelo:\n",
        "    - Evaluar el rendimiento del modelo utilizando el conjunto de prueba.\n",
        "    - Ajustar los hiperparámetros si es necesario.\n",
        "  5. Implementación del Algoritmo: Implementar el modelo entrenado en el sistema de gestión de la red para tomar decisiones de handover en tiempo real."
      ],
      "metadata": {
        "id": "QX5HDqeda8n-"
      }
    },
    {
      "cell_type": "code",
      "execution_count": 8,
      "metadata": {
        "colab": {
          "base_uri": "https://localhost:8080/"
        },
        "id": "4Kc834EGarFd",
        "outputId": "89f558d6-9287-4e3b-cd84-bba605396144"
      },
      "outputs": [
        {
          "output_type": "stream",
          "name": "stdout",
          "text": [
            "          RSSI    Latencia  PerdidaPaquetes  Velocidad  Handover\n",
            "0   -81.272994   53.323927         1.308528  67.270299         1\n",
            "1   -52.464285  117.542171         1.234894  79.668140         1\n",
            "2   -63.400303  177.130250         4.531273  25.046790         1\n",
            "3   -70.067076  151.800480         1.247731  62.487410         1\n",
            "4   -92.199068  165.181007         1.359749  57.174598         1\n",
            "..         ...         ...              ...        ...       ...\n",
            "995 -95.420896  138.251928         4.326479  44.210703         1\n",
            "996 -54.134321  192.190632         0.786366  33.440118         1\n",
            "997 -93.159068   32.412443         1.548939  39.457232         1\n",
            "998 -52.488132   30.269850         1.450228  52.994059         1\n",
            "999 -77.699711   70.793673         4.357070  16.136736         1\n",
            "\n",
            "[1000 rows x 5 columns]\n",
            "Accuracy: 0.99\n",
            "Classification Report:\n",
            "              precision    recall  f1-score   support\n",
            "\n",
            "           0       1.00      0.83      0.91        18\n",
            "           1       0.99      1.00      0.99       282\n",
            "\n",
            "    accuracy                           0.99       300\n",
            "   macro avg       0.99      0.92      0.95       300\n",
            "weighted avg       0.99      0.99      0.99       300\n",
            "\n",
            "Realizar handover\n"
          ]
        },
        {
          "output_type": "stream",
          "name": "stderr",
          "text": [
            "/usr/local/lib/python3.10/dist-packages/sklearn/base.py:439: UserWarning: X does not have valid feature names, but RandomForestClassifier was fitted with feature names\n",
            "  warnings.warn(\n"
          ]
        }
      ],
      "source": [
        "import pandas as pd\n",
        "import numpy as np\n",
        "from sklearn.model_selection import train_test_split\n",
        "from sklearn.ensemble import RandomForestClassifier\n",
        "from sklearn.metrics import accuracy_score, classification_report\n",
        "\n",
        "# Generar datos simulados\n",
        "# Simularemos algunas características y una etiqueta de handover\n",
        "np.random.seed(42)\n",
        "data_size = 1000\n",
        "\n",
        "# Características: RSSI, Latencia, Pérdida de Paquetes, Velocidad\n",
        "data = {\n",
        "    'RSSI': np.random.uniform(-100, -50, data_size),\n",
        "    'Latencia': np.random.uniform(20, 200, data_size),\n",
        "    'PerdidaPaquetes': np.random.uniform(0, 5, data_size),\n",
        "    'Velocidad': np.random.uniform(0, 100, data_size)\n",
        "}\n",
        "\n",
        "# Etiqueta: 1 para handover necesario, 0 para no necesario\n",
        "data['Handover'] = np.where((data['RSSI'] < -85) | (data['Latencia'] > 100) |\n",
        "                            (data['PerdidaPaquetes'] > 1), 1, 0)\n",
        "\n",
        "df = pd.DataFrame(data)\n",
        "\n",
        "print (df)\n",
        "\n",
        "# Dividir los datos en conjuntos de entrenamiento y prueba\n",
        "X = df[['RSSI', 'Latencia', 'PerdidaPaquetes', 'Velocidad']]\n",
        "y = df['Handover']\n",
        "\n",
        "X_train, X_test, y_train, y_test = train_test_split(X, y, test_size=0.3, random_state=42)\n",
        "\n",
        "# Entrenar el modelo\n",
        "model = RandomForestClassifier(n_estimators=100, random_state=42)\n",
        "model.fit(X_train, y_train)\n",
        "\n",
        "# Predecir y evaluar\n",
        "y_pred = model.predict(X_test)\n",
        "\n",
        "print(f\"Accuracy: {accuracy_score(y_test, y_pred)}\")\n",
        "print(f\"Classification Report:\\n{classification_report(y_test, y_pred)}\")\n",
        "\n",
        "# Implementar el modelo (pseudo-código)\n",
        "def qos_handover_decision(rssi, latencia, perdida_paquetes, velocidad):\n",
        "    input_data = np.array([[rssi, latencia, perdida_paquetes, velocidad]])\n",
        "    handover_decision = model.predict(input_data)\n",
        "    if handover_decision == 1:\n",
        "        print(\"Realizar handover\")\n",
        "    else:\n",
        "        print(\"No se requiere handover\")\n",
        "\n",
        "# Ejemplo de uso en tiempo real\n",
        "qos_handover_decision(-90, 150, 2, 60)  # Ejemplo de datos en tiempo real\n"
      ]
    },
    {
      "cell_type": "code",
      "source": [
        "\n",
        "# Ejemplo de uso en tiempo real\n",
        "qos_handover_decision(-70, 10, 0, 80)  # Ejemplo de datos en tiempo real\n"
      ],
      "metadata": {
        "colab": {
          "base_uri": "https://localhost:8080/"
        },
        "id": "tMpOsVjTdHyQ",
        "outputId": "907c59cf-ae73-4b1b-f1e1-f6d0e85ede9c"
      },
      "execution_count": 9,
      "outputs": [
        {
          "output_type": "stream",
          "name": "stdout",
          "text": [
            "No se requiere handover\n"
          ]
        },
        {
          "output_type": "stream",
          "name": "stderr",
          "text": [
            "/usr/local/lib/python3.10/dist-packages/sklearn/base.py:439: UserWarning: X does not have valid feature names, but RandomForestClassifier was fitted with feature names\n",
            "  warnings.warn(\n"
          ]
        }
      ]
    }
  ]
}