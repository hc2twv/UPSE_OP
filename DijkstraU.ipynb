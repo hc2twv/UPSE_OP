{
  "nbformat": 4,
  "nbformat_minor": 0,
  "metadata": {
    "colab": {
      "provenance": [],
      "authorship_tag": "ABX9TyMIZ+nyR0b1b/pOXLsaxFUb",
      "include_colab_link": true
    },
    "kernelspec": {
      "name": "python3",
      "display_name": "Python 3"
    },
    "language_info": {
      "name": "python"
    }
  },
  "cells": [
    {
      "cell_type": "markdown",
      "metadata": {
        "id": "view-in-github",
        "colab_type": "text"
      },
      "source": [
        "<a href=\"https://colab.research.google.com/github/hc2twv/UPSE_OP/blob/main/DijkstraU.ipynb\" target=\"_parent\"><img src=\"https://colab.research.google.com/assets/colab-badge.svg\" alt=\"Open In Colab\"/></a>"
      ]
    },
    {
      "cell_type": "code",
      "execution_count": 4,
      "metadata": {
        "colab": {
          "base_uri": "https://localhost:8080/"
        },
        "id": "bSx_viY9eo-b",
        "outputId": "8cf7b187-c13b-4483-ea36-e97d80a156a2"
      },
      "outputs": [
        {
          "output_type": "stream",
          "name": "stdout",
          "text": [
            "Distancia más corta desde A hasta C: 3\n",
            "Camino: ['A', 'B', 'C']\n"
          ]
        }
      ],
      "source": [
        "def dijkstra(grafo, inicio):\n",
        "    # Inicializar las distancias de todos los nodos al infinito\n",
        "    distancias = {nodo: float('inf') for nodo in grafo}\n",
        "    # La distancia al nodo de inicio es 0\n",
        "    distancias[inicio] = 0\n",
        "    # Inicializar los predecesores de los nodos\n",
        "    predecesores = {nodo: None for nodo in grafo}\n",
        "    # Crear un conjunto de todos los nodos no visitados\n",
        "    nodos_no_visitados = set(grafo)\n",
        "\n",
        "    while nodos_no_visitados:\n",
        "        # Elegir el nodo no visitado con la distancia más pequeña\n",
        "        nodo_actual = min(nodos_no_visitados, key=lambda nodo: distancias[nodo])\n",
        "        # Eliminar el nodo actual de los nodos no visitados\n",
        "        nodos_no_visitados.remove(nodo_actual)\n",
        "\n",
        "        # Actualizar las distancias de los vecinos del nodo actual\n",
        "        for vecino, peso in grafo[nodo_actual].items():\n",
        "            # Calcular la nueva distancia al vecino\n",
        "            nueva_distancia = distancias[nodo_actual] + peso\n",
        "            # Si la nueva distancia es menor, actualizar la distancia\n",
        "            if nueva_distancia < distancias[vecino]:\n",
        "                distancias[vecino] = nueva_distancia\n",
        "                predecesores[vecino] = nodo_actual\n",
        "\n",
        "    return distancias, predecesores\n",
        "\n",
        "def encontrar_camino(predecesores, inicio, fin):\n",
        "    camino = []\n",
        "    nodo_actual = fin\n",
        "    while nodo_actual is not None:\n",
        "        camino.insert(0, nodo_actual)\n",
        "        nodo_actual = predecesores[nodo_actual]\n",
        "    if camino[0] == inicio:\n",
        "        return camino\n",
        "    else:\n",
        "        return None\n",
        "\n",
        "# Ejemplo de uso\n",
        "grafo = {\n",
        "    'A': {'B': 1, 'C': 4},\n",
        "    'B': {'A': 1, 'C': 2, 'D': 6},\n",
        "    'C': {'A': 4, 'B': 2, 'D': 3},\n",
        "    'D': {'B': 6, 'C': 3}\n",
        "}\n",
        "\n",
        "# Calcular las distancias y predecesores desde el nodo 'A'\n",
        "distancias, predecesores = dijkstra(grafo, 'A')\n",
        "\n",
        "# Encontrar la distancia y camino desde 'A' a 'D'\n",
        "inicio = 'A'\n",
        "fin = 'C'\n",
        "camino = encontrar_camino(predecesores, inicio, fin)\n",
        "\n",
        "# Imprimir el resultado\n",
        "print(f\"Distancia más corta desde {inicio} hasta {fin}: {distancias[fin]}\")\n",
        "print(f\"Camino: {camino}\")\n"
      ]
    },
    {
      "cell_type": "markdown",
      "source": [
        "El algoritmo de Dijkstra se aplica frecuentemente en redes de datos para encontrar la ruta más corta entre dos nodos (por ejemplo, routers) en una red. Aquí hay un ejemplo detallado de cómo se podría aplicar Dijkstra a una red de datos."
      ],
      "metadata": {
        "id": "_jtGhSgnfQEB"
      }
    },
    {
      "cell_type": "markdown",
      "source": [
        "    Supongamos que tenemos una red de routers con las siguientes conexiones y tiempos de transmisión (en milisegundos):\n",
        "    \n",
        "    Router A --10ms-- Router B\n",
        "      |              /   |\n",
        "    15ms           5ms   20ms\n",
        "      |            /     |\n",
        "    Router C --25ms-- Router D\n",
        "      |\n",
        "    30ms\n",
        "      |\n",
        "    Router E\n"
      ],
      "metadata": {
        "id": "RItWkj7DfTST"
      }
    },
    {
      "cell_type": "code",
      "source": [
        "def dijkstra(grafo, inicio):\n",
        "    # Inicializar las distancias de todos los nodos al infinito\n",
        "    distancias = {nodo: float('inf') for nodo in grafo}\n",
        "    # La distancia al nodo de inicio es 0\n",
        "    distancias[inicio] = 0\n",
        "    # Inicializar los predecesores de los nodos\n",
        "    predecesores = {nodo: None for nodo in grafo}\n",
        "    # Crear un conjunto de todos los nodos no visitados\n",
        "    nodos_no_visitados = set(grafo)\n",
        "\n",
        "    while nodos_no_visitados:\n",
        "        # Elegir el nodo no visitado con la distancia más pequeña\n",
        "        nodo_actual = min(nodos_no_visitados, key=lambda nodo: distancias[nodo])\n",
        "        # Eliminar el nodo actual de los nodos no visitados\n",
        "        nodos_no_visitados.remove(nodo_actual)\n",
        "\n",
        "        # Actualizar las distancias de los vecinos del nodo actual\n",
        "        for vecino, peso in grafo[nodo_actual].items():\n",
        "            # Calcular la nueva distancia al vecino\n",
        "            nueva_distancia = distancias[nodo_actual] + peso\n",
        "            # Si la nueva distancia es menor, actualizar la distancia\n",
        "            if nueva_distancia < distancias[vecino]:\n",
        "                distancias[vecino] = nueva_distancia\n",
        "                predecesores[vecino] = nodo_actual\n",
        "\n",
        "    return distancias, predecesores\n",
        "\n",
        "def encontrar_camino(predecesores, inicio, fin):\n",
        "    camino = []\n",
        "    nodo_actual = fin\n",
        "    while nodo_actual is not None:\n",
        "        camino.insert(0, nodo_actual)\n",
        "        nodo_actual = predecesores[nodo_actual]\n",
        "    if camino[0] == inicio:\n",
        "        return camino\n",
        "    else:\n",
        "        return None\n",
        "\n",
        "# Ejemplo de uso\n",
        "grafo = {\n",
        "    'A': {'B': 10, 'C': 15},\n",
        "    'B': {'A': 10, 'C': 5, 'D': 20},\n",
        "    'C': {'A': 15, 'B': 5, 'D': 25, 'E': 30},\n",
        "    'D': {'B': 20, 'C': 25},\n",
        "    'E': {'C': 30}\n",
        "}\n",
        "\n",
        "# Calcular las distancias y predecesores desde el router 'A'\n",
        "distancias, predecesores = dijkstra(grafo, 'A')\n",
        "\n",
        "# Encontrar la distancia y camino desde 'A' a 'D'\n",
        "inicio = 'A'\n",
        "fin = 'D'\n",
        "camino = encontrar_camino(predecesores, inicio, fin)\n",
        "\n",
        "# Imprimir el resultado\n",
        "print(f\"Distancia más corta desde {inicio} hasta {fin}: {distancias[fin]} ms\")\n",
        "print(f\"Camino: {camino}\")\n"
      ],
      "metadata": {
        "colab": {
          "base_uri": "https://localhost:8080/"
        },
        "id": "I5MszgipfYQH",
        "outputId": "59a5c243-1302-41c2-a52a-d8aa9befbe39"
      },
      "execution_count": 5,
      "outputs": [
        {
          "output_type": "stream",
          "name": "stdout",
          "text": [
            "Distancia más corta desde A hasta D: 30 ms\n",
            "Camino: ['A', 'B', 'D']\n"
          ]
        }
      ]
    }
  ]
}