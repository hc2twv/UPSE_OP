{
  "nbformat": 4,
  "nbformat_minor": 0,
  "metadata": {
    "colab": {
      "provenance": [],
      "authorship_tag": "ABX9TyOzM7i65T/Ca2AObshnBO5T",
      "include_colab_link": true
    },
    "kernelspec": {
      "name": "python3",
      "display_name": "Python 3"
    },
    "language_info": {
      "name": "python"
    }
  },
  "cells": [
    {
      "cell_type": "markdown",
      "metadata": {
        "id": "view-in-github",
        "colab_type": "text"
      },
      "source": [
        "<a href=\"https://colab.research.google.com/github/hc2twv/UPSE_OP/blob/main/OptApreMachine.ipynb\" target=\"_parent\"><img src=\"https://colab.research.google.com/assets/colab-badge.svg\" alt=\"Open In Colab\"/></a>"
      ]
    },
    {
      "cell_type": "markdown",
      "source": [
        "Un ejemplo que combine optimización y aprendizaje automático para predecir la demanda de tráfico y luego optimizar la red de telecomunicaciones basada en esas predicciones. Utilizaremos scikit-learn para el aprendizaje automático y PuLP para la optimización."
      ],
      "metadata": {
        "id": "9qMFCriMZTGr"
      }
    },
    {
      "cell_type": "markdown",
      "source": [
        "Vamos a seguir estos pasos:\n",
        "\n",
        "* Generar datos históricos de tráfico.\n",
        "* Entrenar un modelo de aprendizaje automático para predecir futuras demandas de tráfico.\n",
        "* Usar las predicciones para optimizar la red de telecomunicaciones.\n",
        "\n",
        "Paso 1: Generar datos históricos de tráfico\n",
        "Para este ejemplo, generaremos datos sintéticos de tráfico.\n",
        "\n",
        "Paso 2: Entrenar un modelo de aprendizaje automático\n",
        "Utilizaremos un modelo de regresión para predecir las futuras demandas de tráfico basadas en datos históricos.\n",
        "\n",
        "Paso 3: Optimizar la red de telecomunicaciones\n",
        "Usaremos las predicciones del modelo para optimizar la red utilizando PuLP."
      ],
      "metadata": {
        "id": "H4opEdJnZXH9"
      }
    },
    {
      "cell_type": "code",
      "source": [
        "!pip install pulp"
      ],
      "metadata": {
        "colab": {
          "base_uri": "https://localhost:8080/"
        },
        "id": "TZYEBjXOZnS6",
        "outputId": "e9413fba-a2b1-41b4-f95f-1be9f8571869"
      },
      "execution_count": 2,
      "outputs": [
        {
          "output_type": "stream",
          "name": "stdout",
          "text": [
            "Collecting pulp\n",
            "  Downloading PuLP-2.8.0-py3-none-any.whl (17.7 MB)\n",
            "\u001b[2K     \u001b[90m━━━━━━━━━━━━━━━━━━━━━━━━━━━━━━━━━━━━━━━━\u001b[0m \u001b[32m17.7/17.7 MB\u001b[0m \u001b[31m24.9 MB/s\u001b[0m eta \u001b[36m0:00:00\u001b[0m\n",
            "\u001b[?25hInstalling collected packages: pulp\n",
            "Successfully installed pulp-2.8.0\n"
          ]
        }
      ]
    },
    {
      "cell_type": "code",
      "execution_count": 3,
      "metadata": {
        "colab": {
          "base_uri": "https://localhost:8080/"
        },
        "id": "LKKKnkzNZN1W",
        "outputId": "41a81eb2-bf4b-4727-dbb8-6000e1e30089"
      },
      "outputs": [
        {
          "output_type": "stream",
          "name": "stdout",
          "text": [
            "Estado: Optimal\n",
            "Costo Total: 182.0\n",
            "Flujo en el enlace A->B: 14.0 unidades\n",
            "Flujo en el enlace A->C: 20.0 unidades\n",
            "Flujo en el enlace B->C: 29.0 unidades\n",
            "Flujo en el enlace B->D: 15.0 unidades\n",
            "Flujo en el enlace C->D: 35.0 unidades\n"
          ]
        }
      ],
      "source": [
        "import numpy as np\n",
        "import pandas as pd\n",
        "from sklearn.model_selection import train_test_split\n",
        "from sklearn.linear_model import LinearRegression\n",
        "import pulp\n",
        "\n",
        "# Paso 1: Generar datos históricos de tráfico\n",
        "np.random.seed(0)\n",
        "dates = pd.date_range('2023-01-01', periods=100, freq='D')\n",
        "traffic_data = {\n",
        "    'A_D': np.random.poisson(lam=20, size=100),\n",
        "    'B_D': np.random.poisson(lam=30, size=100),\n",
        "    'A_C': np.random.poisson(lam=15, size=100)\n",
        "}\n",
        "traffic_df = pd.DataFrame(traffic_data, index=dates)\n",
        "\n",
        "# Paso 2: Entrenar un modelo de aprendizaje automático\n",
        "# Crear características temporales\n",
        "traffic_df['day_of_week'] = traffic_df.index.dayofweek\n",
        "traffic_df['month'] = traffic_df.index.month\n",
        "\n",
        "# Separar en características y etiquetas\n",
        "X = traffic_df[['day_of_week', 'month']]\n",
        "y_A_D = traffic_df['A_D']\n",
        "y_B_D = traffic_df['B_D']\n",
        "y_A_C = traffic_df['A_C']\n",
        "\n",
        "# Dividir en conjuntos de entrenamiento y prueba\n",
        "X_train, X_test, y_A_D_train, y_A_D_test = train_test_split(X, y_A_D, test_size=0.2, random_state=0)\n",
        "X_train, X_test, y_B_D_train, y_B_D_test = train_test_split(X, y_B_D, test_size=0.2, random_state=0)\n",
        "X_train, X_test, y_A_C_train, y_A_C_test = train_test_split(X, y_A_C, test_size=0.2, random_state=0)\n",
        "\n",
        "# Entrenar los modelos de regresión\n",
        "model_A_D = LinearRegression()\n",
        "model_A_D.fit(X_train, y_A_D_train)\n",
        "\n",
        "model_B_D = LinearRegression()\n",
        "model_B_D.fit(X_train, y_B_D_train)\n",
        "\n",
        "model_A_C = LinearRegression()\n",
        "model_A_C.fit(X_train, y_A_C_train)\n",
        "\n",
        "# Predecir futuras demandas\n",
        "future_dates = pd.date_range('2024-01-01', periods=10, freq='D')\n",
        "future_features = pd.DataFrame({\n",
        "    'day_of_week': future_dates.dayofweek,\n",
        "    'month': future_dates.month\n",
        "})\n",
        "\n",
        "future_A_D = model_A_D.predict(future_features)\n",
        "future_B_D = model_B_D.predict(future_features)\n",
        "future_A_C = model_A_C.predict(future_features)\n",
        "\n",
        "# Usar la media de las predicciones para la optimización\n",
        "predicted_demands = {\n",
        "    ('A', 'D'): int(np.mean(future_A_D)),\n",
        "    ('B', 'D'): int(np.mean(future_B_D)),\n",
        "    ('A', 'C'): int(np.mean(future_A_C))\n",
        "}\n",
        "\n",
        "# Paso 3: Optimizar la red de telecomunicaciones usando PuLP\n",
        "# Definir enlaces (de, a) con capacidad y costo\n",
        "enlaces = {\n",
        "    ('A', 'B'): {'capacidad': 25, 'costo': 2},\n",
        "    ('A', 'C'): {'capacidad': 20, 'costo': 3},\n",
        "    ('B', 'C'): {'capacidad': 30, 'costo': 1},\n",
        "    ('B', 'D'): {'capacidad': 20, 'costo': 2},\n",
        "    ('C', 'D'): {'capacidad': 35, 'costo': 1}\n",
        "}\n",
        "\n",
        "# Crear el problema de minimización\n",
        "problem = pulp.LpProblem(\"Telecom_Network_Optimization\", pulp.LpMinimize)\n",
        "\n",
        "# Crear las variables de decisión\n",
        "x = pulp.LpVariable.dicts(\"x\", enlaces, lowBound=0, cat='Continuous')\n",
        "\n",
        "# Definir la función objetivo (minimizar costos operativos y de transmisión)\n",
        "problem += pulp.lpSum([x[(i, j)] * enlaces[(i, j)]['costo'] for (i, j) in enlaces]), \"Costo_Total\"\n",
        "\n",
        "# Definir las restricciones de capacidad de los enlaces\n",
        "for (i, j) in enlaces:\n",
        "    problem += x[(i, j)] <= enlaces[(i, j)]['capacidad'], f\"Capacidad_Enlace_{i}_{j}\"\n",
        "\n",
        "# Definir las restricciones de balance de flujo en cada nodo\n",
        "nodos = ['A', 'B', 'C', 'D']\n",
        "for nodo in nodos:\n",
        "    flujo_entrante = pulp.lpSum([x[(i, j)] for (i, j) in enlaces if j == nodo])\n",
        "    flujo_saliente = pulp.lpSum([x[(i, j)] for (i, j) in enlaces if i == nodo])\n",
        "\n",
        "    demanda_entrante = pulp.lpSum([demanda for (origen, destino), demanda in predicted_demands.items() if destino == nodo])\n",
        "    demanda_saliente = pulp.lpSum([demanda for (origen, destino), demanda in predicted_demands.items() if origen == nodo])\n",
        "\n",
        "    problem += (flujo_entrante + demanda_saliente) == (flujo_saliente + demanda_entrante), f\"Balance_Flujo_{nodo}\"\n",
        "\n",
        "# Resolver el problema\n",
        "problem.solve()\n",
        "\n",
        "# Imprimir los resultados\n",
        "print(\"Estado:\", pulp.LpStatus[problem.status])\n",
        "print(\"Costo Total:\", pulp.value(problem.objective))\n",
        "for (i, j) in enlaces:\n",
        "    print(f\"Flujo en el enlace {i}->{j}: {pulp.value(x[(i, j)])} unidades\")\n"
      ]
    },
    {
      "cell_type": "markdown",
      "source": [
        "Explicación del código\n",
        "* Generación de datos históricos: Se generan datos sintéticos de tráfico para tres enlaces principales (A_D, B_D, A_C) utilizando una distribución de Poisson para simular tráfico diario durante 100 días.\n",
        "\n",
        "* Entrenamiento de modelos de regresión: Se crean características temporales (día de la semana y mes) y se entrenan modelos de regresión lineal para predecir las futuras demandas de tráfico en los tres enlaces.\n",
        "\n",
        "* Predicción de futuras demandas: Se utilizan los modelos de regresión para predecir las demandas de tráfico para los próximos 10 días y se calcula la media de las predicciones para usarlas en la optimización.\n",
        "\n",
        "* Optimización de la red de telecomunicaciones: Se define y resuelve un problema de optimización utilizando PuLP para minimizar los costos operativos y de transmisión mientras se satisfacen las demandas de tráfico predichas."
      ],
      "metadata": {
        "id": "30wfoz6rZt6l"
      }
    }
  ]
}