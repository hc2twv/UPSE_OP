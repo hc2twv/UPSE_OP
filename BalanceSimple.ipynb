{
  "nbformat": 4,
  "nbformat_minor": 0,
  "metadata": {
    "colab": {
      "provenance": [],
      "authorship_tag": "ABX9TyNVI8P/LuX8CQx4EWndUuZ6",
      "include_colab_link": true
    },
    "kernelspec": {
      "name": "python3",
      "display_name": "Python 3"
    },
    "language_info": {
      "name": "python"
    }
  },
  "cells": [
    {
      "cell_type": "markdown",
      "metadata": {
        "id": "view-in-github",
        "colab_type": "text"
      },
      "source": [
        "<a href=\"https://colab.research.google.com/github/hc2twv/UPSE_OP/blob/main/BalanceSimple.ipynb\" target=\"_parent\"><img src=\"https://colab.research.google.com/assets/colab-badge.svg\" alt=\"Open In Colab\"/></a>"
      ]
    },
    {
      "cell_type": "markdown",
      "source": [
        "Round Robin es un algoritmo sencillo y eficaz para distribuir las solicitudes entrantes a través de un conjunto de servidores. La idea principal es distribuir las solicitudes en orden secuencial, enviando cada solicitud al siguiente servidor en la lista.\n"
      ],
      "metadata": {
        "id": "v9kfOJil-HQz"
      }
    },
    {
      "cell_type": "code",
      "execution_count": 3,
      "metadata": {
        "colab": {
          "base_uri": "https://localhost:8080/"
        },
        "id": "Mzlr0u9n-Eyu",
        "outputId": "180d6a8f-58a0-47e3-adb4-71017d00029f"
      },
      "outputs": [
        {
          "output_type": "stream",
          "name": "stdout",
          "text": [
            "Solicitud 1 asignada a Server1\n",
            "Solicitud 2 asignada a Server2\n",
            "Solicitud 3 asignada a Server3\n",
            "Solicitud 4 asignada a Server4\n",
            "Solicitud 5 asignada a Server1\n",
            "Solicitud 6 asignada a Server2\n",
            "Solicitud 7 asignada a Server3\n",
            "Solicitud 8 asignada a Server4\n",
            "Solicitud 9 asignada a Server1\n",
            "Solicitud 10 asignada a Server2\n"
          ]
        }
      ],
      "source": [
        "class RoundRobinLoadBalancer:\n",
        "    def __init__(self, servers):\n",
        "        self.servers = servers\n",
        "        self.index = 0\n",
        "\n",
        "    def get_next_server(self):\n",
        "        server = self.servers[self.index]\n",
        "        self.index = (self.index + 1) % len(self.servers)\n",
        "        return server\n",
        "\n",
        "# Lista de servidores\n",
        "servers = ['Server1', 'Server2', 'Server3', 'Server4']\n",
        "\n",
        "# Inicializa el balanceador de carga\n",
        "load_balancer = RoundRobinLoadBalancer(servers)\n",
        "\n",
        "# Simula la distribución de 10 solicitudes\n",
        "for i in range(10):\n",
        "    server = load_balancer.get_next_server()\n",
        "    print(f\"Solicitud {i + 1} asignada a {server}\")\n"
      ]
    },
    {
      "cell_type": "markdown",
      "source": [
        "\n",
        "El balanceo de carga basado en la carga (Load-based Load Balancing) distribuye las solicitudes a los servidores en función de su carga actual. Aquí tienes un ejemplo en Python que simula este tipo de balanceo de carga. En este caso, se supondrá que cada servidor tiene una capacidad y que las solicitudes tienen una carga específica que deben asignarse al servidor con menor carga en ese momento."
      ],
      "metadata": {
        "id": "SdS9h9SF_qau"
      }
    },
    {
      "cell_type": "code",
      "source": [
        "class Server:\n",
        "    def __init__(self, name):\n",
        "        self.name = name\n",
        "        self.load = 0  # Carga inicial del servidor es 0\n",
        "\n",
        "    def assign_request(self, load):\n",
        "        self.load += load  # Incrementa la carga del servidor\n",
        "\n",
        "    def __repr__(self):\n",
        "        return f\"{self.name}(Load: {self.load})\"\n",
        "\n",
        "\n",
        "class LoadBasedLoadBalancer:\n",
        "    def __init__(self, servers):\n",
        "        self.servers = servers\n",
        "\n",
        "    def get_least_loaded_server(self):\n",
        "        # Encuentra el servidor con la menor carga\n",
        "        return min(self.servers, key=lambda server: server.load)\n",
        "\n",
        "    def assign_request(self, load):\n",
        "        # Asigna la solicitud al servidor con la menor carga\n",
        "        server = self.get_least_loaded_server()\n",
        "        server.assign_request(load)\n",
        "        return server\n",
        "\n",
        "# Lista de servidores\n",
        "servers = [Server('Server1'), Server('Server2'), Server('Server3'), Server('Server4')]\n",
        "\n",
        "# Inicializa el balanceador de carga basado en la carga\n",
        "load_balancer = LoadBasedLoadBalancer(servers)\n",
        "\n",
        "# Simula la distribución de 10 solicitudes con cargas variables\n",
        "requests = [5, 3, 9, 2, 7, 4, 1, 8, 6, 5]\n",
        "\n",
        "for i, load in enumerate(requests):\n",
        "    server = load_balancer.assign_request(load)\n",
        "    print(f\"Solicitud {i + 1} con carga {load} asignada a {server}\")\n",
        "\n",
        "# Muestra la carga final de cada servidor\n",
        "print(\"\\nCarga final de cada servidor:\")\n",
        "for server in servers:\n",
        "    print(server)\n"
      ],
      "metadata": {
        "colab": {
          "base_uri": "https://localhost:8080/"
        },
        "id": "gh-mbrXA_xAD",
        "outputId": "95e0b482-d935-4d51-cd3c-48c48a8b2450"
      },
      "execution_count": 4,
      "outputs": [
        {
          "output_type": "stream",
          "name": "stdout",
          "text": [
            "Solicitud 1 con carga 5 asignada a Server1(Load: 5)\n",
            "Solicitud 2 con carga 3 asignada a Server2(Load: 3)\n",
            "Solicitud 3 con carga 9 asignada a Server3(Load: 9)\n",
            "Solicitud 4 con carga 2 asignada a Server4(Load: 2)\n",
            "Solicitud 5 con carga 7 asignada a Server4(Load: 9)\n",
            "Solicitud 6 con carga 4 asignada a Server2(Load: 7)\n",
            "Solicitud 7 con carga 1 asignada a Server1(Load: 6)\n",
            "Solicitud 8 con carga 8 asignada a Server1(Load: 14)\n",
            "Solicitud 9 con carga 6 asignada a Server2(Load: 13)\n",
            "Solicitud 10 con carga 5 asignada a Server3(Load: 14)\n",
            "\n",
            "Carga final de cada servidor:\n",
            "Server1(Load: 14)\n",
            "Server2(Load: 13)\n",
            "Server3(Load: 14)\n",
            "Server4(Load: 9)\n"
          ]
        }
      ]
    },
    {
      "cell_type": "markdown",
      "source": [
        "El balanceo de carga basado en la calidad de la señal (Signal Quality-based Load Balancing) distribuye las solicitudes a los servidores en función de la calidad de la señal de cada servidor. Este enfoque es común en redes inalámbricas y sistemas distribuidos donde la calidad de la señal puede variar"
      ],
      "metadata": {
        "id": "GnpsSWLjAV_i"
      }
    },
    {
      "cell_type": "code",
      "source": [
        "import random\n",
        "\n",
        "class Server:\n",
        "    def __init__(self, name):\n",
        "        self.name = name\n",
        "        self.signal_quality = random.uniform(0, 1)  # Calidad de la señal inicial entre 0 y 1\n",
        "\n",
        "    def update_signal_quality(self):\n",
        "        # Simula la variación de la calidad de la señal\n",
        "        self.signal_quality = random.uniform(0, 1)\n",
        "\n",
        "    def __repr__(self):\n",
        "        return f\"{self.name}(Signal Quality: {self.signal_quality:.2f})\"\n",
        "\n",
        "class SignalQualityLoadBalancer:\n",
        "    def __init__(self, servers):\n",
        "        self.servers = servers\n",
        "\n",
        "    def get_best_signal_server(self):\n",
        "        # Encuentra el servidor con la mejor calidad de señal\n",
        "        return max(self.servers, key=lambda server: server.signal_quality)\n",
        "\n",
        "    def assign_request(self):\n",
        "        # Asigna la solicitud al servidor con la mejor calidad de señal\n",
        "        for server in self.servers:\n",
        "            server.update_signal_quality()  # Actualiza la calidad de la señal antes de asignar\n",
        "        server = self.get_best_signal_server()\n",
        "        return server\n",
        "\n",
        "# Lista de servidores\n",
        "servers = [Server('Server1'), Server('Server2'), Server('Server3'), Server('Server4')]\n",
        "\n",
        "# Inicializa el balanceador de carga basado en la calidad de la señal\n",
        "load_balancer = SignalQualityLoadBalancer(servers)\n",
        "\n",
        "# Simula la distribución de 10 solicitudes\n",
        "for i in range(10):\n",
        "    server = load_balancer.assign_request()\n",
        "    print(f\"Solicitud {i + 1} asignada a {server}\")\n",
        "\n",
        "# Muestra la calidad de la señal final de cada servidor\n",
        "print(\"\\nCalidad de la señal final de cada servidor:\")\n",
        "for server in servers:\n",
        "    print(server)\n"
      ],
      "metadata": {
        "colab": {
          "base_uri": "https://localhost:8080/"
        },
        "id": "2kmp_m5QAYfK",
        "outputId": "608df076-1ecc-42f7-c2f2-5660d643728c"
      },
      "execution_count": 5,
      "outputs": [
        {
          "output_type": "stream",
          "name": "stdout",
          "text": [
            "Solicitud 1 asignada a Server2(Signal Quality: 0.94)\n",
            "Solicitud 2 asignada a Server2(Signal Quality: 0.88)\n",
            "Solicitud 3 asignada a Server2(Signal Quality: 0.83)\n",
            "Solicitud 4 asignada a Server2(Signal Quality: 0.78)\n",
            "Solicitud 5 asignada a Server2(Signal Quality: 0.97)\n",
            "Solicitud 6 asignada a Server2(Signal Quality: 0.69)\n",
            "Solicitud 7 asignada a Server2(Signal Quality: 0.89)\n",
            "Solicitud 8 asignada a Server1(Signal Quality: 0.81)\n",
            "Solicitud 9 asignada a Server4(Signal Quality: 0.79)\n",
            "Solicitud 10 asignada a Server3(Signal Quality: 0.99)\n",
            "\n",
            "Calidad de la señal final de cada servidor:\n",
            "Server1(Signal Quality: 0.62)\n",
            "Server2(Signal Quality: 0.12)\n",
            "Server3(Signal Quality: 0.99)\n",
            "Server4(Signal Quality: 0.70)\n"
          ]
        }
      ]
    }
  ]
}