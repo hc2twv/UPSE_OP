{
  "nbformat": 4,
  "nbformat_minor": 0,
  "metadata": {
    "colab": {
      "provenance": [],
      "authorship_tag": "ABX9TyNzbP+Z1yWtYXRguO8jptVW",
      "include_colab_link": true
    },
    "kernelspec": {
      "name": "python3",
      "display_name": "Python 3"
    },
    "language_info": {
      "name": "python"
    }
  },
  "cells": [
    {
      "cell_type": "markdown",
      "metadata": {
        "id": "view-in-github",
        "colab_type": "text"
      },
      "source": [
        "<a href=\"https://colab.research.google.com/github/hc2twv/UPSE_OP/blob/main/OCHAvanzado.ipynb\" target=\"_parent\"><img src=\"https://colab.research.google.com/assets/colab-badge.svg\" alt=\"Open In Colab\"/></a>"
      ]
    },
    {
      "cell_type": "markdown",
      "source": [
        "Optimización de rutas de vehículos de comunicación, como drones o vehículos terrestres"
      ],
      "metadata": {
        "id": "AtakoinEveNc"
      }
    },
    {
      "cell_type": "code",
      "source": [
        "import numpy as np\n",
        "\n",
        "class AntColonyOptimization:\n",
        "    def __init__(self, distance_matrix, n_ants=10, n_iterations=100, alpha=1, beta=2, evaporation_rate=0.5):\n",
        "        \"\"\"\n",
        "        Inicializa el algoritmo de Colonias de Hormigas para la optimización de rutas de vehículos de comunicación.\n",
        "\n",
        "        :param distance_matrix: Matriz de distancias entre los puntos de entrega.\n",
        "        :param n_ants: Número de hormigas en la colonia.\n",
        "        :param n_iterations: Número de iteraciones del algoritmo.\n",
        "        :param alpha: Peso de la feromona en la elección de la siguiente ciudad.\n",
        "        :param beta: Peso de la distancia en la elección de la siguiente ciudad.\n",
        "        :param evaporation_rate: Tasa de evaporación de feromonas después de cada iteración.\n",
        "        \"\"\"\n",
        "        self.distance_matrix = distance_matrix\n",
        "        self.n_ants = n_ants\n",
        "        self.n_iterations = n_iterations\n",
        "        self.alpha = alpha\n",
        "        self.beta = beta\n",
        "        self.evaporation_rate = evaporation_rate\n",
        "        self.pheromone_matrix = np.ones_like(distance_matrix) / np.mean(distance_matrix)  # Inicialización de feromonas\n",
        "\n",
        "    def run(self):\n",
        "        \"\"\"\n",
        "        Ejecuta el algoritmo ACO para encontrar la mejor ruta de entrega.\n",
        "\n",
        "        :return: La mejor ruta encontrada y su distancia.\n",
        "        \"\"\"\n",
        "        best_route = None\n",
        "        best_distance = np.inf\n",
        "        for _ in range(self.n_iterations):\n",
        "            routes = self.generate_ant_routes()\n",
        "            self.update_pheromones(routes)\n",
        "            shortest_route, shortest_distance = min(routes, key=lambda x: x[1])\n",
        "            if shortest_distance < best_distance:\n",
        "                best_route = shortest_route\n",
        "                best_distance = shortest_distance\n",
        "        return best_route, best_distance\n",
        "\n",
        "    def generate_ant_routes(self):\n",
        "        \"\"\"\n",
        "        Genera las rutas de todas las hormigas.\n",
        "\n",
        "        :return: Lista de todas las rutas generadas por las hormigas.\n",
        "        \"\"\"\n",
        "        routes = []\n",
        "        for _ in range(self.n_ants):\n",
        "            route = self.generate_ant_route()\n",
        "            routes.append(route)\n",
        "        return routes\n",
        "\n",
        "    def generate_ant_route(self):\n",
        "        \"\"\"\n",
        "        Genera la ruta de una hormiga.\n",
        "\n",
        "        :return: Ruta generada por la hormiga y su distancia total.\n",
        "        \"\"\"\n",
        "        current_point = np.random.randint(len(self.distance_matrix))  # Seleccionamos un punto de inicio aleatorio\n",
        "        unvisited_points = set(range(len(self.distance_matrix)))\n",
        "        unvisited_points.remove(current_point)\n",
        "        route = [current_point]\n",
        "        total_distance = 0\n",
        "        while unvisited_points:\n",
        "            next_point = self.choose_next_point(current_point, unvisited_points)\n",
        "            total_distance += self.distance_matrix[current_point][next_point]\n",
        "            route.append(next_point)\n",
        "            unvisited_points.remove(next_point)\n",
        "            current_point = next_point\n",
        "        total_distance += self.distance_matrix[route[-1]][route[0]]  # Añadimos la distancia de vuelta al punto inicial\n",
        "        return route, total_distance\n",
        "\n",
        "    def choose_next_point(self, current_point, unvisited_points):\n",
        "        \"\"\"\n",
        "        Elige el próximo punto a visitar por una hormiga.\n",
        "\n",
        "        :param current_point: Punto actual.\n",
        "        :param unvisited_points: Conjunto de puntos no visitados.\n",
        "        :return: Próximo punto a visitar.\n",
        "        \"\"\"\n",
        "        probabilities = self.calculate_probabilities(current_point, unvisited_points)\n",
        "        next_point = np.random.choice(list(unvisited_points), p=probabilities)\n",
        "        return next_point\n",
        "\n",
        "    def calculate_probabilities(self, current_point, unvisited_points):\n",
        "        \"\"\"\n",
        "        Calcula las probabilidades de visitar los puntos no visitados desde el punto actual.\n",
        "\n",
        "        :param current_point: Punto actual.\n",
        "        :param unvisited_points: Conjunto de puntos no visitados.\n",
        "        :return: Lista de probabilidades de visitar cada punto.\n",
        "        \"\"\"\n",
        "        pheromones = self.pheromone_matrix[current_point, list(unvisited_points)]\n",
        "        distances = self.distance_matrix[current_point, list(unvisited_points)]\n",
        "        visibility = 1 / distances\n",
        "        total_pheromone = np.sum(pheromones ** self.alpha * visibility ** self.beta)\n",
        "        probabilities = (pheromones ** self.alpha * visibility ** self.beta) / total_pheromone\n",
        "        return probabilities\n",
        "\n",
        "    def update_pheromones(self, routes):\n",
        "        \"\"\"\n",
        "        Actualiza las feromonas en la matriz de feromonas basándose en las rutas de las hormigas.\n",
        "\n",
        "        :param routes: Lista de rutas de las hormigas.\n",
        "        \"\"\"\n",
        "        self.pheromone_matrix *= (1 - self.evaporation_rate)  # Evaporación de feromonas\n",
        "        for route, distance in routes:\n",
        "            for i in range(len(route) - 1):\n",
        "                self.pheromone_matrix[route[i], route[i+1]] += 1 / distance\n",
        "                self.pheromone_matrix[route[i+1], route[i]] += 1 / distance  # Asegurar simetría\n",
        "\n",
        "\n",
        "# Ejemplo de uso:\n",
        "# Creamos una matriz de distancias de ejemplo (por ejemplo, distancias entre puntos de entrega)\n",
        "distance_matrix = np.array([[0, 10, 20, 15],\n",
        "                            [10, 0, 25, 30],\n",
        "                            [20, 25, 0, 35],\n",
        "                            [15, 30, 35, 0]])\n",
        "\n",
        "# Creamos una instancia del algoritmo ACO para optimizar las rutas de vehículos de comunicación\n",
        "aco = AntColonyOptimization(distance_matrix)\n",
        "\n",
        "# Ejecutamos el algoritmo para encontrar la mejor ruta\n",
        "best_route, best_distance = aco.run()\n",
        "print(f\"La mejor ruta encontrada es: {best_route}, con una distancia total de {best_distance}.\")\n",
        "\n"
      ],
      "metadata": {
        "colab": {
          "base_uri": "https://localhost:8080/"
        },
        "id": "gNPEKhRCvhzs",
        "outputId": "b2e34321-7979-4ba5-9e9a-577e0b0bdbb0"
      },
      "execution_count": 4,
      "outputs": [
        {
          "output_type": "stream",
          "name": "stdout",
          "text": [
            "La mejor ruta encontrada es: [2, 1, 0, 3], con una distancia total de 85.\n"
          ]
        }
      ]
    }
  ]
}