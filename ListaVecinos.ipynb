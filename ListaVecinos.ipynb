{
  "nbformat": 4,
  "nbformat_minor": 0,
  "metadata": {
    "colab": {
      "provenance": [],
      "authorship_tag": "ABX9TyNeqq7iUUDxhaWg6QT0x32h",
      "include_colab_link": true
    },
    "kernelspec": {
      "name": "python3",
      "display_name": "Python 3"
    },
    "language_info": {
      "name": "python"
    }
  },
  "cells": [
    {
      "cell_type": "markdown",
      "metadata": {
        "id": "view-in-github",
        "colab_type": "text"
      },
      "source": [
        "<a href=\"https://colab.research.google.com/github/hc2twv/UPSE_OP/blob/main/ListaVecinos.ipynb\" target=\"_parent\"><img src=\"https://colab.research.google.com/assets/colab-badge.svg\" alt=\"Open In Colab\"/></a>"
      ]
    },
    {
      "cell_type": "code",
      "execution_count": null,
      "metadata": {
        "id": "Bp9TrfP-12TW"
      },
      "outputs": [],
      "source": [
        "#Definición del Problema\n",
        "#Hay varias estaciones base (A, B, C) con diferentes intensidades de señal.\n",
        "#El dispositivo móvil necesita seleccionar la estación base con la mejor señal.\n",
        "#Si el dispositivo móvil se mueve, las intensidades de las señales cambian y el dispositivo debe seleccionar una nueva estación base si es necesario."
      ]
    }
  ]
}