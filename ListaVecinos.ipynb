{
  "nbformat": 4,
  "nbformat_minor": 0,
  "metadata": {
    "colab": {
      "provenance": [],
      "authorship_tag": "ABX9TyObRaOB7t5lP1zmHTPmjHuY",
      "include_colab_link": true
    },
    "kernelspec": {
      "name": "python3",
      "display_name": "Python 3"
    },
    "language_info": {
      "name": "python"
    }
  },
  "cells": [
    {
      "cell_type": "markdown",
      "metadata": {
        "id": "view-in-github",
        "colab_type": "text"
      },
      "source": [
        "<a href=\"https://colab.research.google.com/github/hc2twv/UPSE_OP/blob/main/ListaVecinos.ipynb\" target=\"_parent\"><img src=\"https://colab.research.google.com/assets/colab-badge.svg\" alt=\"Open In Colab\"/></a>"
      ]
    },
    {
      "cell_type": "code",
      "execution_count": 1,
      "metadata": {
        "colab": {
          "base_uri": "https://localhost:8080/"
        },
        "id": "Bp9TrfP-12TW",
        "outputId": "ce866065-5a18-4491-d778-b904dc32e825"
      },
      "outputs": [
        {
          "output_type": "stream",
          "name": "stdout",
          "text": [
            "Inicialmente conectado a la estación B con señal -75 dBm\n",
            "Continúa conectado a la estación B con señal -75 dBm\n",
            "Handover a la estación A con señal -76 dBm\n",
            "Handover a la estación B con señal -76 dBm\n",
            "Continúa conectado a la estación B con señal -76 dBm\n",
            "Handover a la estación A con señal -72 dBm\n",
            "Continúa conectado a la estación A con señal -72 dBm\n",
            "Handover a la estación B con señal -65 dBm\n",
            "Continúa conectado a la estación B con señal -65 dBm\n",
            "Continúa conectado a la estación B con señal -65 dBm\n",
            "Continúa conectado a la estación B con señal -65 dBm\n"
          ]
        }
      ],
      "source": [
        "#Definición del Problema\n",
        "#Hay varias estaciones base (A, B, C) con diferentes intensidades de señal.\n",
        "#El dispositivo móvil necesita seleccionar la estación base con la mejor señal.\n",
        "#Si el dispositivo móvil se mueve, las intensidades de las señales cambian y el dispositivo debe seleccionar una nueva estación base si es necesario.\n",
        "\n",
        "import random\n",
        "\n",
        "# Simulación de intensidades de señal de las estaciones base (valores arbitrarios)\n",
        "stations = {\n",
        "    'A': -80,  # Intensidad de la señal en dBm\n",
        "    'B': -75,\n",
        "    'C': -90\n",
        "}\n",
        "\n",
        "# Función para simular el cambio en la intensidad de la señal\n",
        "def update_signals(stations):\n",
        "    for station in stations:\n",
        "        # Simular un cambio en la intensidad de la señal\n",
        "        stations[station] += random.randint(-5, 5)\n",
        "\n",
        "# Función para seleccionar la mejor estación base según la intensidad de la señal\n",
        "def select_best_station(stations):\n",
        "    # Encontrar la estación con la mejor señal (mayor valor en dBm, es decir, el menos negativo)\n",
        "    best_station = max(stations, key=stations.get)\n",
        "    return best_station, stations[best_station]\n",
        "\n",
        "# Inicialmente, seleccionar la mejor estación base\n",
        "best_station, best_signal = select_best_station(stations)\n",
        "print(f\"Inicialmente conectado a la estación {best_station} con señal {best_signal} dBm\")\n",
        "\n",
        "# Simular el movimiento del dispositivo y el handover\n",
        "for step in range(10):\n",
        "    # Actualizar las intensidades de la señal\n",
        "    update_signals(stations)\n",
        "\n",
        "    # Seleccionar la mejor estación base\n",
        "    new_station, new_signal = select_best_station(stations)\n",
        "\n",
        "    if new_station != best_station:\n",
        "        print(f\"Handover a la estación {new_station} con señal {new_signal} dBm\")\n",
        "        best_station = new_station\n",
        "        best_signal = new_signal\n",
        "    else:\n",
        "        print(f\"Continúa conectado a la estación {best_station} con señal {best_signal} dBm\")\n"
      ]
    }
  ]
}