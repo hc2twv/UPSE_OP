{
  "nbformat": 4,
  "nbformat_minor": 0,
  "metadata": {
    "colab": {
      "provenance": [],
      "authorship_tag": "ABX9TyMRbhSUtY9eL5nVVCqmUjRK",
      "include_colab_link": true
    },
    "kernelspec": {
      "name": "python3",
      "display_name": "Python 3"
    },
    "language_info": {
      "name": "python"
    }
  },
  "cells": [
    {
      "cell_type": "markdown",
      "metadata": {
        "id": "view-in-github",
        "colab_type": "text"
      },
      "source": [
        "<a href=\"https://colab.research.google.com/github/hc2twv/UPSE_OP/blob/main/HandoverEficiente.ipynb\" target=\"_parent\"><img src=\"https://colab.research.google.com/assets/colab-badge.svg\" alt=\"Open In Colab\"/></a>"
      ]
    },
    {
      "cell_type": "markdown",
      "source": [
        "Para simular un algoritmo de handover basado en la calidad del servicio (QoS-HO), podemos seguir estos pasos:\n",
        "\n",
        "  1. Definir Parámetros de QoS: Identificar los parámetros de calidad de servicio, como la intensidad de la señal (RSSI), la tasa de error de paquetes (PER), la latencia, etc.\n",
        "  2. Monitorear QoS Actual: Evaluar continuamente los parámetros de QoS de la celda actual.\n",
        "  3. Definir Umbrales de QoS: Establecer umbrales de QoS que, si se superan, 3.desencadenan un handover.\n",
        "  4. Buscar Celdas Vecinas: Identificar celdas vecinas que puedan proporcionar una mejor QoS.\n",
        "  5. Evaluar QoS de Celdas Vecinas: Comparar la QoS de las celdas vecinas con la celda actual.\n",
        "  6. Realizar Handover: Si se encuentra una celda vecina con mejor QoS que cumple con los umbrales definidos, realizar el handover a esa celda.\n",
        "\n",
        "A continuación, se presenta un ejemplo de un algoritmo en pseudocódigo para simular este proceso:"
      ],
      "metadata": {
        "id": "OmxOL6zjN0K-"
      }
    },
    {
      "cell_type": "code",
      "execution_count": 3,
      "metadata": {
        "colab": {
          "base_uri": "https://localhost:8080/"
        },
        "id": "Ze0_wH9wNwje",
        "outputId": "620bd8b9-bf33-4699-ed6a-9e77ca2c1863"
      },
      "outputs": [
        {
          "output_type": "stream",
          "name": "stdout",
          "text": [
            "Handover completado a la celda B\n",
            "        Celda  RSSI (dBm)  PER (%)  Latencia (ms)  QoS Cumple Umbrales  \\\n",
            "0  Actual (A)         -90      2.0            150                False   \n",
            "1  Vecina (B)         -80      0.5             50                 True   \n",
            "\n",
            "            Acción  \n",
            "0  Evaluar Vecinas  \n",
            "1     Handover a B  \n"
          ]
        }
      ],
      "source": [
        "import pandas as pd\n",
        "\n",
        "# Definimos los umbrales de QoS\n",
        "UMBRAL_RSSI = -85  # dBm: Intensidad de la señal\n",
        "UMBRAL_PER = 1  # % de paquetes erróneos\n",
        "UMBRAL_LATENCIA = 100  # ms: Latencia en milisegundos\n",
        "\n",
        "# Función para evaluar la QoS de una celda\n",
        "def evaluar_qos(celda):\n",
        "    # Retorna un diccionario con los parámetros de QoS de la celda\n",
        "    return {\n",
        "        \"RSSI\": celda.obtener_rssi(),\n",
        "        \"PER\": celda.obtener_per(),\n",
        "        \"latencia\": celda.obtener_latencia()\n",
        "    }\n",
        "\n",
        "# Función para verificar si la QoS cumple con los requisitos\n",
        "def cumple_qos(qos):\n",
        "    # Comprueba si todos los parámetros de QoS están dentro de los umbrales definidos\n",
        "    return (qos[\"RSSI\"] > UMBRAL_RSSI and\n",
        "            qos[\"PER\"] < UMBRAL_PER and\n",
        "            qos[\"latencia\"] < UMBRAL_LATENCIA)\n",
        "\n",
        "# Simulación del algoritmo\n",
        "class Celda:\n",
        "    def __init__(self, id, rssi, per, latencia):\n",
        "        self.id = id\n",
        "        self.rssi = rssi\n",
        "        self.per = per\n",
        "        self.latencia = latencia\n",
        "\n",
        "    # Métodos para obtener los parámetros de QoS de la celda\n",
        "    def obtener_rssi(self):\n",
        "        return self.rssi\n",
        "\n",
        "    def obtener_per(self):\n",
        "        return self.per\n",
        "\n",
        "    def obtener_latencia(self):\n",
        "        return self.latencia\n",
        "\n",
        "    # Método para realizar el handover a una nueva celda\n",
        "    def handover(self, nueva_celda):\n",
        "        self.id = nueva_celda.id\n",
        "        self.rssi = nueva_celda.rssi\n",
        "        self.per = nueva_celda.per\n",
        "        self.latencia = nueva_celda.latencia\n",
        "        print(f\"Handover completado a la celda {nueva_celda.id}\")\n",
        "\n",
        "# Crear instancias de celdas para la simulación\n",
        "celda_actual = Celda(\"A\", -90, 2, 150)  # Celda actual con baja QoS\n",
        "celdas_vecinas = [Celda(\"B\", -80, 0.5, 50), Celda(\"C\", -75, 1, 80)]  # Celdas vecinas con mejor QoS\n",
        "\n",
        "# Tabla para almacenar los resultados\n",
        "resultados = []\n",
        "\n",
        "# Evaluar QoS de la celda actual\n",
        "qos_actual = evaluar_qos(celda_actual)\n",
        "resultados.append({\n",
        "    \"Celda\": \"Actual (A)\",\n",
        "    \"RSSI (dBm)\": qos_actual[\"RSSI\"],\n",
        "    \"PER (%)\": qos_actual[\"PER\"],\n",
        "    \"Latencia (ms)\": qos_actual[\"latencia\"],\n",
        "    \"QoS Cumple Umbrales\": cumple_qos(qos_actual),\n",
        "    \"Acción\": \"Evaluar Vecinas\" if not cumple_qos(qos_actual) else \"No se requiere handover\"\n",
        "})\n",
        "\n",
        "# Si la QoS de la celda actual no cumple con los requisitos, se considera el handover\n",
        "if not cumple_qos(qos_actual):\n",
        "    for celda in celdas_vecinas:\n",
        "        qos_vecina = evaluar_qos(celda)\n",
        "        accion = \"Handover a \" + celda.id if cumple_qos(qos_vecina) else \"(No necesario)\"\n",
        "        resultados.append({\n",
        "            \"Celda\": \"Vecina (\" + celda.id + \")\",\n",
        "            \"RSSI (dBm)\": qos_vecina[\"RSSI\"],\n",
        "            \"PER (%)\": qos_vecina[\"PER\"],\n",
        "            \"Latencia (ms)\": qos_vecina[\"latencia\"],\n",
        "            \"QoS Cumple Umbrales\": cumple_qos(qos_vecina),\n",
        "            \"Acción\": accion\n",
        "        })\n",
        "        # Si una celda vecina cumple con los requisitos de QoS, se realiza el handover\n",
        "        if cumple_qos(qos_vecina):\n",
        "            celda_actual.handover(celda)\n",
        "            break\n",
        "\n",
        "# Crear un DataFrame de pandas para mostrar los resultados en formato de tabla\n",
        "df_resultados = pd.DataFrame(resultados)\n",
        "print(df_resultados)\n"
      ]
    }
  ]
}