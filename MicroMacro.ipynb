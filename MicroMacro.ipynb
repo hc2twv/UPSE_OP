{
  "nbformat": 4,
  "nbformat_minor": 0,
  "metadata": {
    "colab": {
      "provenance": [],
      "authorship_tag": "ABX9TyMljgNHR309O0ETZMuq5v6k",
      "include_colab_link": true
    },
    "kernelspec": {
      "name": "python3",
      "display_name": "Python 3"
    },
    "language_info": {
      "name": "python"
    }
  },
  "cells": [
    {
      "cell_type": "markdown",
      "metadata": {
        "id": "view-in-github",
        "colab_type": "text"
      },
      "source": [
        "<a href=\"https://colab.research.google.com/github/hc2twv/UPSE_OP/blob/main/MicroMacro.ipynb\" target=\"_parent\"><img src=\"https://colab.research.google.com/assets/colab-badge.svg\" alt=\"Open In Colab\"/></a>"
      ]
    },
    {
      "cell_type": "markdown",
      "source": [
        "Una simulación sobre microcélulas y macrocélulas puede ilustrar cómo se manejan las solicitudes en una red celular donde las macrocélulas cubren un área grande y las microcélulas cubren áreas más pequeñas y densas. En esta simulación, las macrocélulas pueden manejar más usuarios pero con una calidad de señal potencialmente menor, mientras que las microcélulas manejan menos usuarios con una calidad de señal potencialmente mejor."
      ],
      "metadata": {
        "id": "qdk0RJmOjpZ0"
      }
    },
    {
      "cell_type": "code",
      "execution_count": 1,
      "metadata": {
        "colab": {
          "base_uri": "https://localhost:8080/"
        },
        "id": "J6uRuke7jkOn",
        "outputId": "72cf5f9b-c084-4c48-d99c-a9a4438a8d56"
      },
      "outputs": [
        {
          "output_type": "stream",
          "name": "stdout",
          "text": [
            "Solicitud 1 asignada a MicroCell1(Micro Cell, Signal Quality: 0.79, Users: 1/5)\n",
            "Solicitud 2 asignada a MicroCell1(Micro Cell, Signal Quality: 0.98, Users: 2/5)\n",
            "Solicitud 3 asignada a MicroCell2(Micro Cell, Signal Quality: 0.99, Users: 1/5)\n",
            "Solicitud 4 asignada a MicroCell1(Micro Cell, Signal Quality: 0.89, Users: 3/5)\n",
            "Solicitud 5 asignada a MacroCell2(Macro Cell, Signal Quality: 0.94, Users: 1/10)\n",
            "Solicitud 6 asignada a MicroCell1(Micro Cell, Signal Quality: 0.94, Users: 4/5)\n",
            "Solicitud 7 asignada a MacroCell1(Macro Cell, Signal Quality: 0.96, Users: 1/10)\n",
            "Solicitud 8 asignada a MacroCell2(Macro Cell, Signal Quality: 0.76, Users: 2/10)\n",
            "Solicitud 9 asignada a MacroCell1(Macro Cell, Signal Quality: 0.90, Users: 2/10)\n",
            "Solicitud 10 asignada a MicroCell2(Micro Cell, Signal Quality: 0.81, Users: 2/5)\n",
            "Solicitud 11 asignada a MicroCell1(Micro Cell, Signal Quality: 0.90, Users: 5/5)\n",
            "Solicitud 12 asignada a MacroCell1(Macro Cell, Signal Quality: 0.91, Users: 3/10)\n",
            "Solicitud 13 asignada a MacroCell2(Macro Cell, Signal Quality: 0.80, Users: 3/10)\n",
            "Solicitud 14 asignada a MicroCell2(Micro Cell, Signal Quality: 0.83, Users: 3/5)\n",
            "Solicitud 15 asignada a MacroCell2(Macro Cell, Signal Quality: 0.94, Users: 4/10)\n",
            "Solicitud 16 asignada a MicroCell2(Micro Cell, Signal Quality: 0.73, Users: 4/5)\n",
            "Solicitud 17 asignada a MicroCell2(Micro Cell, Signal Quality: 0.87, Users: 5/5)\n",
            "Solicitud 18 asignada a MacroCell2(Macro Cell, Signal Quality: 0.20, Users: 5/10)\n",
            "Solicitud 19 asignada a MacroCell2(Macro Cell, Signal Quality: 0.88, Users: 6/10)\n",
            "Solicitud 20 asignada a MacroCell2(Macro Cell, Signal Quality: 0.12, Users: 7/10)\n",
            "\n",
            "Estado final de cada celda:\n",
            "MacroCell1(Macro Cell, Signal Quality: 0.07, Users: 3/10)\n",
            "MacroCell2(Macro Cell, Signal Quality: 0.12, Users: 7/10)\n",
            "MicroCell1(Micro Cell, Signal Quality: 0.05, Users: 5/5)\n",
            "MicroCell2(Micro Cell, Signal Quality: 0.38, Users: 5/5)\n",
            "\n",
            "Liberando usuarios de MacroCell1 y MicroCell1...\n",
            "\n",
            "Estado final de cada celda después de liberar algunos usuarios:\n",
            "MacroCell1(Macro Cell, Signal Quality: 0.07, Users: 2/10)\n",
            "MacroCell2(Macro Cell, Signal Quality: 0.12, Users: 7/10)\n",
            "MicroCell1(Micro Cell, Signal Quality: 0.05, Users: 4/5)\n",
            "MicroCell2(Micro Cell, Signal Quality: 0.38, Users: 5/5)\n"
          ]
        }
      ],
      "source": [
        "import random\n",
        "\n",
        "class Cell:\n",
        "    def __init__(self, name, max_users, cell_type):\n",
        "        self.name = name\n",
        "        self.max_users = max_users\n",
        "        self.cell_type = cell_type  # 'macro' or 'micro'\n",
        "        self.signal_quality = random.uniform(0, 1)  # Calidad de la señal inicial entre 0 y 1\n",
        "        self.current_users = 0\n",
        "\n",
        "    def update_signal_quality(self):\n",
        "        # Simula la variación de la calidad de la señal\n",
        "        self.signal_quality = random.uniform(0, 1)\n",
        "\n",
        "    def can_accept_user(self):\n",
        "        return self.current_users < self.max_users\n",
        "\n",
        "    def assign_user(self):\n",
        "        if self.can_accept_user():\n",
        "            self.current_users += 1\n",
        "            return True\n",
        "        return False\n",
        "\n",
        "    def release_user(self):\n",
        "        if self.current_users > 0:\n",
        "            self.current_users -= 1\n",
        "\n",
        "    def __repr__(self):\n",
        "        return f\"{self.name}({self.cell_type.capitalize()} Cell, Signal Quality: {self.signal_quality:.2f}, Users: {self.current_users}/{self.max_users})\"\n",
        "\n",
        "class LoadBalancer:\n",
        "    def __init__(self, cells):\n",
        "        self.cells = cells\n",
        "\n",
        "    def assign_request(self):\n",
        "        # Actualiza la calidad de la señal antes de asignar\n",
        "        for cell in self.cells:\n",
        "            cell.update_signal_quality()\n",
        "\n",
        "        # Encuentra la mejor celda que puede aceptar más usuarios basado en la calidad de la señal\n",
        "        available_cells = [cell for cell in self.cells if cell.can_accept_user()]\n",
        "        if not available_cells:\n",
        "            return None\n",
        "        best_cell = max(available_cells, key=lambda cell: cell.signal_quality)\n",
        "        best_cell.assign_user()\n",
        "        return best_cell\n",
        "\n",
        "    def release_user_from_cell(self, cell_name):\n",
        "        for cell in self.cells:\n",
        "            if cell.name == cell_name:\n",
        "                cell.release_user()\n",
        "\n",
        "# Lista de celdas (macrocélulas y microcélulas) con un límite máximo de usuarios\n",
        "cells = [\n",
        "    Cell('MacroCell1', 10, 'macro'),\n",
        "    Cell('MacroCell2', 10, 'macro'),\n",
        "    Cell('MicroCell1', 5, 'micro'),\n",
        "    Cell('MicroCell2', 5, 'micro')\n",
        "]\n",
        "\n",
        "# Inicializa el balanceador de carga\n",
        "load_balancer = LoadBalancer(cells)\n",
        "\n",
        "# Simula la distribución de 20 solicitudes\n",
        "for i in range(20):\n",
        "    cell = load_balancer.assign_request()\n",
        "    if cell:\n",
        "        print(f\"Solicitud {i + 1} asignada a {cell}\")\n",
        "    else:\n",
        "        print(f\"Solicitud {i + 1} no pudo ser asignada - todas las celdas están llenas\")\n",
        "\n",
        "# Muestra el estado final de cada celda\n",
        "print(\"\\nEstado final de cada celda:\")\n",
        "for cell in cells:\n",
        "    print(cell)\n",
        "\n",
        "# Simula la liberación de algunos usuarios\n",
        "print(\"\\nLiberando usuarios de MacroCell1 y MicroCell1...\")\n",
        "load_balancer.release_user_from_cell('MacroCell1')\n",
        "load_balancer.release_user_from_cell('MicroCell1')\n",
        "\n",
        "# Muestra el estado final de cada celda después de liberar algunos usuarios\n",
        "print(\"\\nEstado final de cada celda después de liberar algunos usuarios:\")\n",
        "for cell in cells:\n",
        "    print(cell)\n"
      ]
    }
  ]
}