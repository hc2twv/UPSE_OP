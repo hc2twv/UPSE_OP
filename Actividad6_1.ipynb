{
  "nbformat": 4,
  "nbformat_minor": 0,
  "metadata": {
    "colab": {
      "provenance": [],
      "authorship_tag": "ABX9TyMxtsDGeI7PhcOybvrS29Xw",
      "include_colab_link": true
    },
    "kernelspec": {
      "name": "python3",
      "display_name": "Python 3"
    },
    "language_info": {
      "name": "python"
    }
  },
  "cells": [
    {
      "cell_type": "markdown",
      "metadata": {
        "id": "view-in-github",
        "colab_type": "text"
      },
      "source": [
        "<a href=\"https://colab.research.google.com/github/hc2twv/UPSE_OP/blob/main/Actividad6_1.ipynb\" target=\"_parent\"><img src=\"https://colab.research.google.com/assets/colab-badge.svg\" alt=\"Open In Colab\"/></a>"
      ]
    },
    {
      "cell_type": "code",
      "execution_count": 3,
      "metadata": {
        "colab": {
          "base_uri": "https://localhost:8080/"
        },
        "id": "lCO6iikA-Kwl",
        "outputId": "a64fe63a-26b6-4cdf-ebfe-2a1e3cc9b08b"
      },
      "outputs": [
        {
          "output_type": "stream",
          "name": "stdout",
          "text": [
            "Collecting pulp\n",
            "  Downloading PuLP-2.8.0-py3-none-any.whl (17.7 MB)\n",
            "\u001b[2K     \u001b[90m━━━━━━━━━━━━━━━━━━━━━━━━━━━━━━━━━━━━━━━━\u001b[0m \u001b[32m17.7/17.7 MB\u001b[0m \u001b[31m58.7 MB/s\u001b[0m eta \u001b[36m0:00:00\u001b[0m\n",
            "\u001b[?25hInstalling collected packages: pulp\n",
            "Successfully installed pulp-2.8.0\n"
          ]
        }
      ],
      "source": [
        "!pip install pulp"
      ]
    },
    {
      "cell_type": "markdown",
      "source": [
        "Explicación del Código\n",
        "Definir el Problema:\n",
        "\n",
        "* Usamos pulp.LpProblem para definir nuestro problema de optimización, especificando que queremos minimizar el costo total.\n",
        "Conjuntos y Parámetros:\n",
        "\n",
        "* Definimos los nodos, distancias entre nodos, costos por km para cada tipo de enlace, el costo del equipo de red y el tráfico de datos.\n",
        "Variables de Decisión:\n",
        "\n",
        "* Creamos variables binarias\n",
        "x,\n",
        "y y\n",
        "z usando pulp.LpVariable.dicts para indicar si se instala un enlace de 10 Mbps, 20 Mbps o 40 Mbps respectivamente entre las sucursales.\n",
        "Función Objetivo:\n",
        "\n",
        "* Definimos la función objetivo para minimizar el costo total de instalación de los enlaces y los equipos de red.\n",
        "Restricciones:\n",
        "\n",
        "* Añadimos restricciones para asegurar que se satisfaga el volumen de tráfico de datos, que solo se instale un tipo de enlace entre cualquier par de sucursales y que cada sucursal tenga al menos un equipo de red.\n",
        "Resolver el Problema:\n",
        "\n",
        "* Utilizamos prob.solve() para resolver el problema de optimización."
      ],
      "metadata": {
        "id": "37oHwbSm_2Ej"
      }
    },
    {
      "cell_type": "code",
      "source": [
        "import pulp\n",
        "\n",
        "# Definir el problema de optimización\n",
        "prob = pulp.LpProblem(\"Telecom_Network\", pulp.LpMinimize)\n",
        "\n",
        "# Conjuntos de nodos\n",
        "nodes = ['A', 'B', 'C']\n",
        "\n",
        "# Distancias entre nodos\n",
        "distances = {\n",
        "    ('A', 'B'): 100,\n",
        "    ('A', 'C'): 200,\n",
        "    ('B', 'C'): 150\n",
        "}\n",
        "\n",
        "# Costos por km para cada tipo de enlace\n",
        "cost_per_km = {\n",
        "    '10Mbps': 100,\n",
        "    '20Mbps': 150,\n",
        "    '40Mbps': 200\n",
        "}\n",
        "\n",
        "# Costo de equipo de red por nodo\n",
        "cost_node = 500\n",
        "\n",
        "# Volumen de tráfico de datos\n",
        "traffic = {\n",
        "    ('A', 'B'): 10,\n",
        "    ('A', 'C'): 20,\n",
        "    ('B', 'C'): 15\n",
        "}\n",
        "\n",
        "# Variables de decisión\n",
        "x = pulp.LpVariable.dicts(\"x\", [(i, j) for i in nodes for j in nodes if i < j], 0, 1, pulp.LpBinary)\n",
        "y = pulp.LpVariable.dicts(\"y\", [(i, j) for i in nodes for j in nodes if i < j], 0, 1, pulp.LpBinary)\n",
        "z = pulp.LpVariable.dicts(\"z\", [(i, j) for i in nodes for j in nodes if i < j], 0, 1, pulp.LpBinary)\n",
        "\n",
        "# Función objetivo: minimizar el costo total de la red\n",
        "prob += pulp.lpSum([\n",
        "    distances[i, j] * cost_per_km['10Mbps'] * x[i, j] +\n",
        "    distances[i, j] * cost_per_km['20Mbps'] * y[i, j] +\n",
        "    distances[i, j] * cost_per_km['40Mbps'] * z[i, j]\n",
        "    for (i, j) in distances\n",
        "]) + cost_node * len(nodes), \"Costo_Total\"\n",
        "\n",
        "# Restricción: asegurar el volumen de tráfico de datos\n",
        "prob += pulp.lpSum([\n",
        "    10 * x[i, j] + 20 * y[i, j] + 40 * z[i, j]\n",
        "    for (i, j) in distances\n",
        "]) >= pulp.lpSum([traffic[i, j] for (i, j) in traffic]), \"Volumen_de_Trafico\"\n",
        "\n",
        "# Restricción: solo un tipo de enlace entre cualquier par de sucursales\n",
        "for (i, j) in distances:\n",
        "    prob += x[i, j] + y[i, j] + z[i, j] <= 1, f\"Un_Solo_Enlace_{i}_{j}\"\n",
        "\n",
        "# Restricción: cada sucursal debe tener un equipo de red\n",
        "for i in nodes:\n",
        "    prob += pulp.lpSum([\n",
        "        x[i, j] + y[i, j] + z[i, j] if i < j else x[j, i] + y[j, i] + z[j, i]\n",
        "        for j in nodes if i != j\n",
        "    ]) >= 1, f\"Equipo_de_Red_{i}\"\n",
        "\n",
        "# Resolver el problema\n",
        "prob.solve()\n",
        "\n",
        "# Resultados\n",
        "print(f\"Estado: {pulp.LpStatus[prob.status]}\")\n",
        "print(f\"Costo Total: ${pulp.value(prob.objective):,.2f}\")\n",
        "\n",
        "for (i, j) in distances:\n",
        "    if pulp.value(x[i, j]) == 1:\n",
        "        print(f\"Enlace 10 Mbps entre {i} y {j}\")\n",
        "    elif pulp.value(y[i, j]) == 1:\n",
        "        print(f\"Enlace 20 Mbps entre {i} y {j}\")\n",
        "    elif pulp.value(z[i, j]) == 1:\n",
        "        print(f\"Enlace 40 Mbps entre {i} y {j}\")\n"
      ],
      "metadata": {
        "colab": {
          "base_uri": "https://localhost:8080/"
        },
        "id": "3h_LQfG4-3Ux",
        "outputId": "31ebcf0f-19c7-4df7-93ef-8290510bd51f"
      },
      "execution_count": 4,
      "outputs": [
        {
          "output_type": "stream",
          "name": "stdout",
          "text": [
            "Estado: Optimal\n",
            "Costo Total: $36,500.00\n",
            "Enlace 40 Mbps entre A y B\n",
            "Enlace 10 Mbps entre B y C\n"
          ]
        }
      ]
    },
    {
      "cell_type": "markdown",
      "source": [
        "ejercicio 2"
      ],
      "metadata": {
        "id": "6BBRAadrEEx2"
      }
    },
    {
      "cell_type": "markdown",
      "source": [],
      "metadata": {
        "id": "N6TJ_w3SEF0h"
      }
    },
    {
      "cell_type": "code",
      "source": [
        "import pulp\n",
        "\n",
        "# Definir el problema de optimización\n",
        "prob = pulp.LpProblem(\"Maximize_Flow\", pulp.LpMaximize)\n",
        "\n",
        "# Parámetros del problema\n",
        "distance = 150  # km\n",
        "cost_per_km = {\n",
        "    '10Mbps': 100,\n",
        "    '20Mbps': 150,\n",
        "    '40Mbps': 200\n",
        "}\n",
        "cost_node = 500  # por nodo\n",
        "budget = 2000  # presupuesto total\n",
        "\n",
        "# Variables de decisión\n",
        "x_10 = pulp.LpVariable(\"x_10\", 0, 1, pulp.LpBinary)\n",
        "x_20 = pulp.LpVariable(\"x_20\", 0, 1, pulp.LpBinary)\n",
        "x_40 = pulp.LpVariable(\"x_40\", 0, 1, pulp.LpBinary)\n",
        "\n",
        "# Función objetivo: maximizar el flujo de datos\n",
        "prob += 10 * x_10 + 20 * x_20 + 40 * x_40, \"Max_Flow\"\n",
        "\n",
        "# Restricción: presupuesto total\n",
        "prob += (cost_per_km['10Mbps'] * x_10 +\n",
        "         cost_per_km['20Mbps'] * x_20 +\n",
        "         cost_per_km['40Mbps'] * x_40 +\n",
        "         2 * cost_node) <= budget, \"Budget_Constraint\"\n",
        "\n",
        "# Resolver el problema\n",
        "prob.solve()\n",
        "\n",
        "# Resultados\n",
        "print(f\"Estado: {pulp.LpStatus[prob.status]}\")\n",
        "print(f\"Flujo Máximo: {pulp.value(prob.objective)} Mbps\")\n",
        "\n",
        "if pulp.value(x_10) == 1:\n",
        "    print(\"Enlace seleccionado: 10 Mbps\")\n",
        "elif pulp.value(x_20) == 1:\n",
        "    print(\"Enlace seleccionado: 20 Mbps\")\n",
        "elif pulp.value(x_40) == 1:\n",
        "    print(\"Enlace seleccionado: 40 Mbps\")\n",
        "else:\n",
        "    print(\"No se seleccionó ningún enlace dentro del presupuesto.\")\n"
      ],
      "metadata": {
        "colab": {
          "base_uri": "https://localhost:8080/"
        },
        "id": "-P8nhQEhEGDG",
        "outputId": "07008783-c433-400c-afdb-f390538da846"
      },
      "execution_count": 20,
      "outputs": [
        {
          "output_type": "stream",
          "name": "stdout",
          "text": [
            "Estado: Optimal\n",
            "Flujo Máximo: 70.0 Mbps\n",
            "Enlace seleccionado: 10 Mbps\n"
          ]
        }
      ]
    }
  ]
}