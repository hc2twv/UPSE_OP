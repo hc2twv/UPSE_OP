{
  "nbformat": 4,
  "nbformat_minor": 0,
  "metadata": {
    "colab": {
      "provenance": [],
      "authorship_tag": "ABX9TyMx9xhYo1A3T5/P1lqfSEeu",
      "include_colab_link": true
    },
    "kernelspec": {
      "name": "python3",
      "display_name": "Python 3"
    },
    "language_info": {
      "name": "python"
    }
  },
  "cells": [
    {
      "cell_type": "markdown",
      "metadata": {
        "id": "view-in-github",
        "colab_type": "text"
      },
      "source": [
        "<a href=\"https://colab.research.google.com/github/hc2twv/UPSE_OP/blob/main/PSO.ipynb\" target=\"_parent\"><img src=\"https://colab.research.google.com/assets/colab-badge.svg\" alt=\"Open In Colab\"/></a>"
      ]
    },
    {
      "cell_type": "markdown",
      "source": [
        "Implementa el algoritmo de optimización por enjambre de partículas (PSO) aplicado a un problema de telecomunicaciones, como la optimización de la ubicación de estaciones base en una red celular. El objetivo es minimizar la interferencia y maximizar la cobertura de las estaciones base."
      ],
      "metadata": {
        "id": "bQoZkmN5QLmw"
      }
    },
    {
      "cell_type": "code",
      "execution_count": 1,
      "metadata": {
        "colab": {
          "base_uri": "https://localhost:8080/"
        },
        "id": "E49ZWqKxQDlw",
        "outputId": "79cb69cf-a8ad-4c76-c05c-9341494783c2"
      },
      "outputs": [
        {
          "output_type": "stream",
          "name": "stdout",
          "text": [
            "Collecting pyswarm\n",
            "  Downloading pyswarm-0.6.tar.gz (4.3 kB)\n",
            "  Preparing metadata (setup.py) ... \u001b[?25l\u001b[?25hdone\n",
            "Requirement already satisfied: numpy in /usr/local/lib/python3.10/dist-packages (from pyswarm) (1.25.2)\n",
            "Building wheels for collected packages: pyswarm\n",
            "  Building wheel for pyswarm (setup.py) ... \u001b[?25l\u001b[?25hdone\n",
            "  Created wheel for pyswarm: filename=pyswarm-0.6-py3-none-any.whl size=4464 sha256=f961be23b3c3e8cb40f6ee57396ba140ee3a948c1ea8d47c2109008c5fd73363\n",
            "  Stored in directory: /root/.cache/pip/wheels/71/67/40/62fa158f497f942277cbab8199b05cb61c571ab324e67ad0d6\n",
            "Successfully built pyswarm\n",
            "Installing collected packages: pyswarm\n",
            "Successfully installed pyswarm-0.6\n"
          ]
        }
      ],
      "source": [
        "!pip install pyswarm"
      ]
    },
    {
      "cell_type": "markdown",
      "source": [
        "Explicación del Código:\n",
        "Definición del Problema de Optimización:\n",
        "\n",
        "La función telecom_obj_function calcula una medida combinada de interferencia y cobertura.\n",
        "Las posiciones de las estaciones base están representadas por el vector x.\n",
        "La interferencia se calcula como la suma de las distancias inversas entre estaciones base.\n",
        "La cobertura se simplifica como el área total cubierta por las estaciones base.\n",
        "Parámetros del PSO:\n",
        "\n",
        "num_particles es el número de partículas en el enjambre.\n",
        "max_iter es el número máximo de iteraciones.\n",
        "lb y ub son los límites inferiores y superiores del espacio de búsqueda, respectivamente.\n",
        "Ejecución del PSO:\n",
        "\n",
        "La función pso de la biblioteca pyswarm se utiliza para ejecutar el algoritmo de optimización.\n",
        "best_position y best_cost contienen la mejor posición encontrada para las estaciones base y el costo asociado."
      ],
      "metadata": {
        "id": "aCA4cjjjQeoc"
      }
    },
    {
      "cell_type": "code",
      "source": [
        "import numpy as np\n",
        "from pyswarm import pso\n",
        "\n",
        "# Definir el problema de optimización\n",
        "# En este caso, minimizamos la interferencia y maximizamos la cobertura de estaciones base\n",
        "def telecom_obj_function(x):\n",
        "    # x es un vector con las posiciones de las estaciones base\n",
        "    # Para simplificar, asumimos que hay N estaciones base en un área 2D (por ejemplo, un cuadrado de 100x100 unidades)\n",
        "    num_bases = len(x) // 2  # número de estaciones base\n",
        "    positions = x.reshape((num_bases, 2))\n",
        "\n",
        "    # Definir una función de interferencia y cobertura\n",
        "    # Aquí usamos una simple suma de distancias inversas como un proxy para la interferencia\n",
        "    # y la cobertura se calcula como el área cubierta por las estaciones base\n",
        "    interference = 0\n",
        "    coverage = 0\n",
        "    for i in range(num_bases):\n",
        "        for j in range(i + 1, num_bases):\n",
        "            distance = np.linalg.norm(positions[i] - positions[j])\n",
        "            if distance != 0:\n",
        "                interference += 1 / distance\n",
        "\n",
        "        # Suponemos que la cobertura es proporcional al área de influencia de cada estación base\n",
        "        # Aquí simplificamos asumiendo que cada estación base cubre un círculo de radio fijo\n",
        "        coverage += np.pi * (10 ** 2)  # radio de 10 unidades\n",
        "\n",
        "    # Queremos minimizar la interferencia y maximizar la cobertura\n",
        "    # Podemos combinar estas métricas en una sola función de costo\n",
        "    cost = interference - coverage\n",
        "    return cost\n",
        "\n",
        "# Parámetros del PSO\n",
        "num_particles = 30\n",
        "max_iter = 100\n",
        "lb = [0, 0] * 10  # límites inferiores (asumiendo 10 estaciones base)\n",
        "ub = [100, 100] * 10  # límites superiores (asumiendo un área de 100x100 unidades)\n",
        "\n",
        "# Ejecutar el PSO\n",
        "best_position, best_cost = pso(telecom_obj_function, lb, ub, swarmsize=num_particles, maxiter=max_iter)\n",
        "\n",
        "print(\"Mejor posición de las estaciones base:\", best_position)\n",
        "print(\"Costo óptimo (interferencia - cobertura):\", best_cost)\n"
      ],
      "metadata": {
        "colab": {
          "base_uri": "https://localhost:8080/"
        },
        "id": "Wmlxv_RIQQHn",
        "outputId": "88ae3e94-24b0-4580-9691-b4d7dd10286e"
      },
      "execution_count": 2,
      "outputs": [
        {
          "output_type": "stream",
          "name": "stdout",
          "text": [
            "Stopping search: Swarm best objective change less than 1e-08\n",
            "Mejor posición de las estaciones base: [100.          32.48155579   0.         100.          42.67675876\n",
            "  33.6516478   74.37267854  99.80796786 100.           0.\n",
            " 100.          88.69042569   0.          74.64470141   3.03444374\n",
            "   0.          38.86655274  92.15307221   0.          42.38945197]\n",
            "Costo óptimo (interferencia - cobertura): -3140.8986070370524\n"
          ]
        }
      ]
    }
  ]
}